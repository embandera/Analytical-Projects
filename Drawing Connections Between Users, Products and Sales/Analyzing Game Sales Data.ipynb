{
 "cells": [
  {
   "cell_type": "markdown",
   "metadata": {},
   "source": [
    "# Drawing Connections Between User, Product and Sales\n",
    "### Describing Sales Patterns in the Video Game Industry"
   ]
  },
  {
   "cell_type": "markdown",
   "metadata": {},
   "source": [
    "This report analyzes video game sales data to gain an understanding about how features such as game genre, platforms and critic reviews inform financial peformance on a global scale. The video game industry is a billion dollar industry that can be mined for patterns and trends between users, product and sales. This triad is representative of an important set of connections in business analytics and gaining a better understanding of its dynamics within the video game industry may help to strengthen general business analytical approaches. \n",
    "\n",
    "This report outlines several rounds of Exploratory Data Analysis (EDA) and data visualization towards answering questions such as, \"Which platforms are leading in sales? Which ones are growing and shrinking? How do user and professional reviews affect sales for different platforms? Can we generalize about genres with high and low sales?\" \n",
    "\n",
    "In order to answer these questions, this report analyzes a dataset from The Entertainment Software Rating Board, and mostly centers on the years 2006 to 2016. This period of time spans definitive sales trajectories for several signficant platforms like PS2, X360 and Wii. Of course, this report also centers the dataset's unique data on ratings and reviews. \n",
    "\n",
    "For future consideration: The video game industry is uniquely qualified to shed light on competitive markets where partnerships between platforms and product have signficant impact on global sales and financial performance. This is one of topics touched on by researcher, Dmitri Williams, in the article \"Structure and competition in the U.S. home video game industry\" and also discussed on a closer, country-specific level by Aoyama and Izushi in their article, \"Hardware gimmick or cultural innovation? Technological, cultural,and social foundations of the Japanese video game industry\". The relationship between product and platform in the video game industry is not only an academic area of study but also generates headlines in 2020 on popular platforms like [IGN](https://www.ign.com/articles/microsofts-complicated-history-with-the-xbox-in-japan-and-its-plans-for-the-future) (See \"Microsoft's Complicated History With the Xbox In Japan (And its Plans for the Future\", 2020). "
   ]
  },
  {
   "cell_type": "markdown",
   "metadata": {},
   "source": [
    "### Table of Contents\n",
    "\n",
    "* [Getting to Know the Games Dataset](#firstlook)\n",
    "* [Cleaning the Games Dataset](#cleaning)\n",
    "* [Building the Dataset](#building)\n",
    "* [Exploratory Data Analysis](#exploratory)\n",
    "    * [Insights](#insights)\n",
    "        * [Upward tick in new games began around 1993](#insight1)\n",
    "        * [PS2 gaming platform leads in overall sales in period 1980-2016](#insight2)\n",
    "        * [Popular gaming platforms now reaching all time low in sales](#insight2)\n",
    "            * [Case Studies](#casestudy)\n",
    "        * [Aggregated global sales (2006-2016) vary across gaming platforms](#aggregated)\n",
    "        * [Is there a relationship between reviews and sales for the platform PS3?](#aggregated)\n",
    "        * [Grand Theft Auto V had most profitable partnership with PS3 gaming platform](#grand)\n",
    "        * [Action is highest selling genre while Strategy is the lowest](#action)  \n",
    "* [User Profiles by Region](#profiles)\n",
    "* [Testing Between Groups](#testing)\n",
    "* [Conclusion](#conclusion)"
   ]
  },
  {
   "cell_type": "markdown",
   "metadata": {},
   "source": [
    "## Getting to Know the Games Dataset  <a class=\"anchor\" id=\"firstlook\"></a>"
   ]
  },
  {
   "cell_type": "markdown",
   "metadata": {},
   "source": [
    "### Importing Libraries and Data <a class=\"anchor\" id=\"importdata\"></a>"
   ]
  },
  {
   "cell_type": "markdown",
   "metadata": {},
   "source": [
    "We'll start by calling the pandas, numpy, matplotlib.pyplot and scipy libraries. These are all of the libraries used in this report. "
   ]
  },
  {
   "cell_type": "code",
   "execution_count": 1,
   "metadata": {},
   "outputs": [],
   "source": [
    "# Importing libraries\n",
    "import pandas as pd\n",
    "import numpy as np\n",
    "import matplotlib.pyplot as plt\n",
    "from scipy import stats as st\n",
    "from IPython.display import display"
   ]
  },
  {
   "cell_type": "code",
   "execution_count": 2,
   "metadata": {},
   "outputs": [],
   "source": [
    "# Importing data source\n",
    "games_data = pd.read_csv('/Users/mitzibandera/Data Files/Gaming/games.csv')"
   ]
  },
  {
   "cell_type": "markdown",
   "metadata": {},
   "source": [
    "### Inspecting the Data <a class=\"anchor\" id=\"inspectdata\"></a>"
   ]
  },
  {
   "cell_type": "markdown",
   "metadata": {},
   "source": [
    "By using different methods to view the dataset, we can begin to spot patterns, missing values and issues that need to be addressed. "
   ]
  },
  {
   "cell_type": "code",
   "execution_count": 3,
   "metadata": {},
   "outputs": [
    {
     "data": {
      "text/html": [
       "<div>\n",
       "<style scoped>\n",
       "    .dataframe tbody tr th:only-of-type {\n",
       "        vertical-align: middle;\n",
       "    }\n",
       "\n",
       "    .dataframe tbody tr th {\n",
       "        vertical-align: top;\n",
       "    }\n",
       "\n",
       "    .dataframe thead th {\n",
       "        text-align: right;\n",
       "    }\n",
       "</style>\n",
       "<table border=\"1\" class=\"dataframe\">\n",
       "  <thead>\n",
       "    <tr style=\"text-align: right;\">\n",
       "      <th></th>\n",
       "      <th>Name</th>\n",
       "      <th>Platform</th>\n",
       "      <th>Year_of_Release</th>\n",
       "      <th>Genre</th>\n",
       "      <th>NA_sales</th>\n",
       "      <th>EU_sales</th>\n",
       "      <th>JP_sales</th>\n",
       "      <th>Other_sales</th>\n",
       "      <th>Critic_Score</th>\n",
       "      <th>User_Score</th>\n",
       "      <th>Rating</th>\n",
       "    </tr>\n",
       "  </thead>\n",
       "  <tbody>\n",
       "    <tr>\n",
       "      <td>0</td>\n",
       "      <td>Wii Sports</td>\n",
       "      <td>Wii</td>\n",
       "      <td>2006.0</td>\n",
       "      <td>Sports</td>\n",
       "      <td>41.36</td>\n",
       "      <td>28.96</td>\n",
       "      <td>3.77</td>\n",
       "      <td>8.45</td>\n",
       "      <td>76.0</td>\n",
       "      <td>8</td>\n",
       "      <td>E</td>\n",
       "    </tr>\n",
       "    <tr>\n",
       "      <td>1</td>\n",
       "      <td>Super Mario Bros.</td>\n",
       "      <td>NES</td>\n",
       "      <td>1985.0</td>\n",
       "      <td>Platform</td>\n",
       "      <td>29.08</td>\n",
       "      <td>3.58</td>\n",
       "      <td>6.81</td>\n",
       "      <td>0.77</td>\n",
       "      <td>NaN</td>\n",
       "      <td>NaN</td>\n",
       "      <td>NaN</td>\n",
       "    </tr>\n",
       "    <tr>\n",
       "      <td>2</td>\n",
       "      <td>Mario Kart Wii</td>\n",
       "      <td>Wii</td>\n",
       "      <td>2008.0</td>\n",
       "      <td>Racing</td>\n",
       "      <td>15.68</td>\n",
       "      <td>12.76</td>\n",
       "      <td>3.79</td>\n",
       "      <td>3.29</td>\n",
       "      <td>82.0</td>\n",
       "      <td>8.3</td>\n",
       "      <td>E</td>\n",
       "    </tr>\n",
       "    <tr>\n",
       "      <td>3</td>\n",
       "      <td>Wii Sports Resort</td>\n",
       "      <td>Wii</td>\n",
       "      <td>2009.0</td>\n",
       "      <td>Sports</td>\n",
       "      <td>15.61</td>\n",
       "      <td>10.93</td>\n",
       "      <td>3.28</td>\n",
       "      <td>2.95</td>\n",
       "      <td>80.0</td>\n",
       "      <td>8</td>\n",
       "      <td>E</td>\n",
       "    </tr>\n",
       "    <tr>\n",
       "      <td>4</td>\n",
       "      <td>Pokemon Red/Pokemon Blue</td>\n",
       "      <td>GB</td>\n",
       "      <td>1996.0</td>\n",
       "      <td>Role-Playing</td>\n",
       "      <td>11.27</td>\n",
       "      <td>8.89</td>\n",
       "      <td>10.22</td>\n",
       "      <td>1.00</td>\n",
       "      <td>NaN</td>\n",
       "      <td>NaN</td>\n",
       "      <td>NaN</td>\n",
       "    </tr>\n",
       "  </tbody>\n",
       "</table>\n",
       "</div>"
      ],
      "text/plain": [
       "                       Name Platform  Year_of_Release         Genre  NA_sales  \\\n",
       "0                Wii Sports      Wii           2006.0        Sports     41.36   \n",
       "1         Super Mario Bros.      NES           1985.0      Platform     29.08   \n",
       "2            Mario Kart Wii      Wii           2008.0        Racing     15.68   \n",
       "3         Wii Sports Resort      Wii           2009.0        Sports     15.61   \n",
       "4  Pokemon Red/Pokemon Blue       GB           1996.0  Role-Playing     11.27   \n",
       "\n",
       "   EU_sales  JP_sales  Other_sales  Critic_Score User_Score Rating  \n",
       "0     28.96      3.77         8.45          76.0          8      E  \n",
       "1      3.58      6.81         0.77           NaN        NaN    NaN  \n",
       "2     12.76      3.79         3.29          82.0        8.3      E  \n",
       "3     10.93      3.28         2.95          80.0          8      E  \n",
       "4      8.89     10.22         1.00           NaN        NaN    NaN  "
      ]
     },
     "execution_count": 3,
     "metadata": {},
     "output_type": "execute_result"
    }
   ],
   "source": [
    "# Inspecting data \n",
    "games_data.head()"
   ]
  },
  {
   "cell_type": "code",
   "execution_count": 4,
   "metadata": {},
   "outputs": [
    {
     "name": "stdout",
     "output_type": "stream",
     "text": [
      "<class 'pandas.core.frame.DataFrame'>\n",
      "RangeIndex: 16715 entries, 0 to 16714\n",
      "Data columns (total 11 columns):\n",
      "Name               16713 non-null object\n",
      "Platform           16715 non-null object\n",
      "Year_of_Release    16446 non-null float64\n",
      "Genre              16713 non-null object\n",
      "NA_sales           16715 non-null float64\n",
      "EU_sales           16715 non-null float64\n",
      "JP_sales           16715 non-null float64\n",
      "Other_sales        16715 non-null float64\n",
      "Critic_Score       8137 non-null float64\n",
      "User_Score         10014 non-null object\n",
      "Rating             9949 non-null object\n",
      "dtypes: float64(6), object(5)\n",
      "memory usage: 1.4+ MB\n"
     ]
    }
   ],
   "source": [
    "# Inspecting data \n",
    "games_data.info()"
   ]
  },
  {
   "cell_type": "code",
   "execution_count": 5,
   "metadata": {},
   "outputs": [
    {
     "data": {
      "text/plain": [
       "tbd    2424\n",
       "7.8     324\n",
       "8       290\n",
       "8.2     282\n",
       "8.3     254\n",
       "       ... \n",
       "0.7       2\n",
       "1.9       2\n",
       "1.5       2\n",
       "0         1\n",
       "9.7       1\n",
       "Name: User_Score, Length: 96, dtype: int64"
      ]
     },
     "execution_count": 5,
     "metadata": {},
     "output_type": "execute_result"
    }
   ],
   "source": [
    "# Inspecting data \n",
    "games_data['User_Score'].value_counts()"
   ]
  },
  {
   "cell_type": "markdown",
   "metadata": {},
   "source": [
    "Here, we use the duplicated() method to look for any rows that have duplicate values. After several rounds trying different combinations of data, we find that there are many rows where the name and year of release of a game are the same. While this may seem strange at first, we know that this dataset contains popular games that were sold throughout many distinct platforms. The \"duplicate\" rows are representative of this, so don't have to worry about addressing this. "
   ]
  },
  {
   "cell_type": "code",
   "execution_count": 6,
   "metadata": {},
   "outputs": [
    {
     "name": "stdout",
     "output_type": "stream",
     "text": [
      "False    12428\n",
      "True      4287\n",
      "dtype: int64\n"
     ]
    }
   ],
   "source": [
    "# Spot duplicates \n",
    "duplicate_data = games_data.duplicated(subset = ['Name', 'Year_of_Release'], keep = 'first') \n",
    "print(duplicate_data.value_counts())"
   ]
  },
  {
   "cell_type": "markdown",
   "metadata": {},
   "source": [
    "We also use the isnull() method to look for missing values and indeed, we find missing values across different columns. In Step 3, we will clean the dataset and deal with missing values. "
   ]
  },
  {
   "cell_type": "code",
   "execution_count": 7,
   "metadata": {},
   "outputs": [
    {
     "name": "stdout",
     "output_type": "stream",
     "text": [
      "Index(['Name', 'Year_of_Release', 'Genre', 'Critic_Score', 'User_Score',\n",
      "       'Rating'],\n",
      "      dtype='object')\n"
     ]
    }
   ],
   "source": [
    "# Looking for missing values using isnull()\n",
    "print(games_data.columns[games_data.isnull().any()])"
   ]
  },
  {
   "cell_type": "markdown",
   "metadata": {},
   "source": [
    "Finally, we find that the first year represented in this dataset is 1980 and the last year is 2016. "
   ]
  },
  {
   "cell_type": "code",
   "execution_count": 8,
   "metadata": {},
   "outputs": [
    {
     "data": {
      "text/plain": [
       "1980.0"
      ]
     },
     "execution_count": 8,
     "metadata": {},
     "output_type": "execute_result"
    }
   ],
   "source": [
    "games_data['Year_of_Release'].min()"
   ]
  },
  {
   "cell_type": "code",
   "execution_count": 9,
   "metadata": {},
   "outputs": [
    {
     "data": {
      "text/plain": [
       "2016.0"
      ]
     },
     "execution_count": 9,
     "metadata": {},
     "output_type": "execute_result"
    }
   ],
   "source": [
    "games_data['Year_of_Release'].max()"
   ]
  },
  {
   "cell_type": "markdown",
   "metadata": {},
   "source": [
    "## Cleaning the Games Dataset <a class=\"anchor\" id=\"cleaning\"></a>"
   ]
  },
  {
   "cell_type": "markdown",
   "metadata": {},
   "source": [
    "Having gotten to know our dataset a bit, we'll move right into cleaning messy areas such as column names with uppercase letters, replacing missing values when appropriate and converting data types. "
   ]
  },
  {
   "cell_type": "markdown",
   "metadata": {},
   "source": [
    "#### Replacing Column Names <a class=\"anchor\" id=\"colname\"></a>"
   ]
  },
  {
   "cell_type": "code",
   "execution_count": 10,
   "metadata": {},
   "outputs": [],
   "source": [
    "# Replacing the column names (making them lowercase)\n",
    "games_data.columns = games_data.columns.str.lower()"
   ]
  },
  {
   "cell_type": "markdown",
   "metadata": {},
   "source": [
    "#### Replacing Missing Values <a class=\"anchor\" id=\"missing\"></a>"
   ]
  },
  {
   "cell_type": "code",
   "execution_count": 11,
   "metadata": {},
   "outputs": [
    {
     "data": {
      "text/plain": [
       "name                  2\n",
       "platform              0\n",
       "year_of_release     269\n",
       "genre                 2\n",
       "na_sales              0\n",
       "eu_sales              0\n",
       "jp_sales              0\n",
       "other_sales           0\n",
       "critic_score       8578\n",
       "user_score         6701\n",
       "rating             6766\n",
       "dtype: int64"
      ]
     },
     "execution_count": 11,
     "metadata": {},
     "output_type": "execute_result"
    }
   ],
   "source": [
    "# Inspecting number of missing values \n",
    "null_data = games_data.isnull().sum()\n",
    "null_data"
   ]
  },
  {
   "cell_type": "code",
   "execution_count": 12,
   "metadata": {},
   "outputs": [
    {
     "data": {
      "text/html": [
       "<div>\n",
       "<style scoped>\n",
       "    .dataframe tbody tr th:only-of-type {\n",
       "        vertical-align: middle;\n",
       "    }\n",
       "\n",
       "    .dataframe tbody tr th {\n",
       "        vertical-align: top;\n",
       "    }\n",
       "\n",
       "    .dataframe thead th {\n",
       "        text-align: right;\n",
       "    }\n",
       "</style>\n",
       "<table border=\"1\" class=\"dataframe\">\n",
       "  <thead>\n",
       "    <tr style=\"text-align: right;\">\n",
       "      <th></th>\n",
       "      <th>name</th>\n",
       "      <th>platform</th>\n",
       "      <th>year_of_release</th>\n",
       "      <th>genre</th>\n",
       "      <th>na_sales</th>\n",
       "      <th>eu_sales</th>\n",
       "      <th>jp_sales</th>\n",
       "      <th>other_sales</th>\n",
       "      <th>critic_score</th>\n",
       "      <th>user_score</th>\n",
       "      <th>rating</th>\n",
       "    </tr>\n",
       "  </thead>\n",
       "  <tbody>\n",
       "    <tr>\n",
       "      <td>1</td>\n",
       "      <td>Super Mario Bros.</td>\n",
       "      <td>NES</td>\n",
       "      <td>1985.0</td>\n",
       "      <td>Platform</td>\n",
       "      <td>29.08</td>\n",
       "      <td>3.58</td>\n",
       "      <td>6.81</td>\n",
       "      <td>0.77</td>\n",
       "      <td>NaN</td>\n",
       "      <td>NaN</td>\n",
       "      <td>NaN</td>\n",
       "    </tr>\n",
       "    <tr>\n",
       "      <td>4</td>\n",
       "      <td>Pokemon Red/Pokemon Blue</td>\n",
       "      <td>GB</td>\n",
       "      <td>1996.0</td>\n",
       "      <td>Role-Playing</td>\n",
       "      <td>11.27</td>\n",
       "      <td>8.89</td>\n",
       "      <td>10.22</td>\n",
       "      <td>1.00</td>\n",
       "      <td>NaN</td>\n",
       "      <td>NaN</td>\n",
       "      <td>NaN</td>\n",
       "    </tr>\n",
       "    <tr>\n",
       "      <td>5</td>\n",
       "      <td>Tetris</td>\n",
       "      <td>GB</td>\n",
       "      <td>1989.0</td>\n",
       "      <td>Puzzle</td>\n",
       "      <td>23.20</td>\n",
       "      <td>2.26</td>\n",
       "      <td>4.22</td>\n",
       "      <td>0.58</td>\n",
       "      <td>NaN</td>\n",
       "      <td>NaN</td>\n",
       "      <td>NaN</td>\n",
       "    </tr>\n",
       "    <tr>\n",
       "      <td>9</td>\n",
       "      <td>Duck Hunt</td>\n",
       "      <td>NES</td>\n",
       "      <td>1984.0</td>\n",
       "      <td>Shooter</td>\n",
       "      <td>26.93</td>\n",
       "      <td>0.63</td>\n",
       "      <td>0.28</td>\n",
       "      <td>0.47</td>\n",
       "      <td>NaN</td>\n",
       "      <td>NaN</td>\n",
       "      <td>NaN</td>\n",
       "    </tr>\n",
       "    <tr>\n",
       "      <td>10</td>\n",
       "      <td>Nintendogs</td>\n",
       "      <td>DS</td>\n",
       "      <td>2005.0</td>\n",
       "      <td>Simulation</td>\n",
       "      <td>9.05</td>\n",
       "      <td>10.95</td>\n",
       "      <td>1.93</td>\n",
       "      <td>2.74</td>\n",
       "      <td>NaN</td>\n",
       "      <td>NaN</td>\n",
       "      <td>NaN</td>\n",
       "    </tr>\n",
       "    <tr>\n",
       "      <td>...</td>\n",
       "      <td>...</td>\n",
       "      <td>...</td>\n",
       "      <td>...</td>\n",
       "      <td>...</td>\n",
       "      <td>...</td>\n",
       "      <td>...</td>\n",
       "      <td>...</td>\n",
       "      <td>...</td>\n",
       "      <td>...</td>\n",
       "      <td>...</td>\n",
       "      <td>...</td>\n",
       "    </tr>\n",
       "    <tr>\n",
       "      <td>16710</td>\n",
       "      <td>Samurai Warriors: Sanada Maru</td>\n",
       "      <td>PS3</td>\n",
       "      <td>2016.0</td>\n",
       "      <td>Action</td>\n",
       "      <td>0.00</td>\n",
       "      <td>0.00</td>\n",
       "      <td>0.01</td>\n",
       "      <td>0.00</td>\n",
       "      <td>NaN</td>\n",
       "      <td>NaN</td>\n",
       "      <td>NaN</td>\n",
       "    </tr>\n",
       "    <tr>\n",
       "      <td>16711</td>\n",
       "      <td>LMA Manager 2007</td>\n",
       "      <td>X360</td>\n",
       "      <td>2006.0</td>\n",
       "      <td>Sports</td>\n",
       "      <td>0.00</td>\n",
       "      <td>0.01</td>\n",
       "      <td>0.00</td>\n",
       "      <td>0.00</td>\n",
       "      <td>NaN</td>\n",
       "      <td>NaN</td>\n",
       "      <td>NaN</td>\n",
       "    </tr>\n",
       "    <tr>\n",
       "      <td>16712</td>\n",
       "      <td>Haitaka no Psychedelica</td>\n",
       "      <td>PSV</td>\n",
       "      <td>2016.0</td>\n",
       "      <td>Adventure</td>\n",
       "      <td>0.00</td>\n",
       "      <td>0.00</td>\n",
       "      <td>0.01</td>\n",
       "      <td>0.00</td>\n",
       "      <td>NaN</td>\n",
       "      <td>NaN</td>\n",
       "      <td>NaN</td>\n",
       "    </tr>\n",
       "    <tr>\n",
       "      <td>16713</td>\n",
       "      <td>Spirits &amp; Spells</td>\n",
       "      <td>GBA</td>\n",
       "      <td>2003.0</td>\n",
       "      <td>Platform</td>\n",
       "      <td>0.01</td>\n",
       "      <td>0.00</td>\n",
       "      <td>0.00</td>\n",
       "      <td>0.00</td>\n",
       "      <td>NaN</td>\n",
       "      <td>NaN</td>\n",
       "      <td>NaN</td>\n",
       "    </tr>\n",
       "    <tr>\n",
       "      <td>16714</td>\n",
       "      <td>Winning Post 8 2016</td>\n",
       "      <td>PSV</td>\n",
       "      <td>2016.0</td>\n",
       "      <td>Simulation</td>\n",
       "      <td>0.00</td>\n",
       "      <td>0.00</td>\n",
       "      <td>0.01</td>\n",
       "      <td>0.00</td>\n",
       "      <td>NaN</td>\n",
       "      <td>NaN</td>\n",
       "      <td>NaN</td>\n",
       "    </tr>\n",
       "  </tbody>\n",
       "</table>\n",
       "<p>8837 rows × 11 columns</p>\n",
       "</div>"
      ],
      "text/plain": [
       "                                name platform  year_of_release         genre  \\\n",
       "1                  Super Mario Bros.      NES           1985.0      Platform   \n",
       "4           Pokemon Red/Pokemon Blue       GB           1996.0  Role-Playing   \n",
       "5                             Tetris       GB           1989.0        Puzzle   \n",
       "9                          Duck Hunt      NES           1984.0       Shooter   \n",
       "10                        Nintendogs       DS           2005.0    Simulation   \n",
       "...                              ...      ...              ...           ...   \n",
       "16710  Samurai Warriors: Sanada Maru      PS3           2016.0        Action   \n",
       "16711               LMA Manager 2007     X360           2006.0        Sports   \n",
       "16712        Haitaka no Psychedelica      PSV           2016.0     Adventure   \n",
       "16713               Spirits & Spells      GBA           2003.0      Platform   \n",
       "16714            Winning Post 8 2016      PSV           2016.0    Simulation   \n",
       "\n",
       "       na_sales  eu_sales  jp_sales  other_sales  critic_score user_score  \\\n",
       "1         29.08      3.58      6.81         0.77           NaN        NaN   \n",
       "4         11.27      8.89     10.22         1.00           NaN        NaN   \n",
       "5         23.20      2.26      4.22         0.58           NaN        NaN   \n",
       "9         26.93      0.63      0.28         0.47           NaN        NaN   \n",
       "10         9.05     10.95      1.93         2.74           NaN        NaN   \n",
       "...         ...       ...       ...          ...           ...        ...   \n",
       "16710      0.00      0.00      0.01         0.00           NaN        NaN   \n",
       "16711      0.00      0.01      0.00         0.00           NaN        NaN   \n",
       "16712      0.00      0.00      0.01         0.00           NaN        NaN   \n",
       "16713      0.01      0.00      0.00         0.00           NaN        NaN   \n",
       "16714      0.00      0.00      0.01         0.00           NaN        NaN   \n",
       "\n",
       "      rating  \n",
       "1        NaN  \n",
       "4        NaN  \n",
       "5        NaN  \n",
       "9        NaN  \n",
       "10       NaN  \n",
       "...      ...  \n",
       "16710    NaN  \n",
       "16711    NaN  \n",
       "16712    NaN  \n",
       "16713    NaN  \n",
       "16714    NaN  \n",
       "\n",
       "[8837 rows x 11 columns]"
      ]
     },
     "execution_count": 12,
     "metadata": {},
     "output_type": "execute_result"
    }
   ],
   "source": [
    "# Creating a new dataframe with rows that have missing values\n",
    "null_data = games_data.loc[games_data.isnull().any(axis=1)]\n",
    "# Inspecting dataframe for patterns\n",
    "null_data"
   ]
  },
  {
   "cell_type": "code",
   "execution_count": 13,
   "metadata": {},
   "outputs": [],
   "source": [
    "# Inspecting data slice \n",
    "# null_data.describe()\n",
    "# null_data['platform'].value_counts()\n",
    "# null_data['name'].value_counts()"
   ]
  },
  {
   "cell_type": "markdown",
   "metadata": {},
   "source": [
    "Right away, we can observe that there are only 2 rows missing names and 2 rows missing genre. These rows are inconsequential to the large dataset, so we'll go ahead and remove it. It's very likely that removing these rows will not change the calculations, visualizations and conclusions drawn in this report. "
   ]
  },
  {
   "cell_type": "code",
   "execution_count": 14,
   "metadata": {},
   "outputs": [],
   "source": [
    "# Discarting rows with missing name and genre \n",
    "games_data =  games_data.dropna(subset=['name', 'genre'])"
   ]
  },
  {
   "cell_type": "markdown",
   "metadata": {},
   "source": [
    "We also see that the year of release for 269 games is missing as well. Since the year of release is ingtegral to the  the game, we have a tougher choice to make. Do we drop or keep these rows? Before doing anything, let's look at the games missing year of release. We'll find out if there is any patterns that might connect games with missing years in this dataset. "
   ]
  },
  {
   "cell_type": "code",
   "execution_count": 15,
   "metadata": {
    "scrolled": true
   },
   "outputs": [
    {
     "data": {
      "text/html": [
       "<div>\n",
       "<style scoped>\n",
       "    .dataframe tbody tr th:only-of-type {\n",
       "        vertical-align: middle;\n",
       "    }\n",
       "\n",
       "    .dataframe tbody tr th {\n",
       "        vertical-align: top;\n",
       "    }\n",
       "\n",
       "    .dataframe thead th {\n",
       "        text-align: right;\n",
       "    }\n",
       "</style>\n",
       "<table border=\"1\" class=\"dataframe\">\n",
       "  <thead>\n",
       "    <tr style=\"text-align: right;\">\n",
       "      <th></th>\n",
       "      <th>name</th>\n",
       "      <th>platform</th>\n",
       "      <th>year_of_release</th>\n",
       "      <th>genre</th>\n",
       "      <th>na_sales</th>\n",
       "      <th>eu_sales</th>\n",
       "      <th>jp_sales</th>\n",
       "      <th>other_sales</th>\n",
       "      <th>critic_score</th>\n",
       "      <th>user_score</th>\n",
       "      <th>rating</th>\n",
       "    </tr>\n",
       "  </thead>\n",
       "  <tbody>\n",
       "    <tr>\n",
       "      <td>183</td>\n",
       "      <td>Madden NFL 2004</td>\n",
       "      <td>PS2</td>\n",
       "      <td>NaN</td>\n",
       "      <td>Sports</td>\n",
       "      <td>4.26</td>\n",
       "      <td>0.26</td>\n",
       "      <td>0.01</td>\n",
       "      <td>0.71</td>\n",
       "      <td>94.0</td>\n",
       "      <td>8.5</td>\n",
       "      <td>E</td>\n",
       "    </tr>\n",
       "    <tr>\n",
       "      <td>377</td>\n",
       "      <td>FIFA Soccer 2004</td>\n",
       "      <td>PS2</td>\n",
       "      <td>NaN</td>\n",
       "      <td>Sports</td>\n",
       "      <td>0.59</td>\n",
       "      <td>2.36</td>\n",
       "      <td>0.04</td>\n",
       "      <td>0.51</td>\n",
       "      <td>84.0</td>\n",
       "      <td>6.4</td>\n",
       "      <td>E</td>\n",
       "    </tr>\n",
       "    <tr>\n",
       "      <td>456</td>\n",
       "      <td>LEGO Batman: The Videogame</td>\n",
       "      <td>Wii</td>\n",
       "      <td>NaN</td>\n",
       "      <td>Action</td>\n",
       "      <td>1.80</td>\n",
       "      <td>0.97</td>\n",
       "      <td>0.00</td>\n",
       "      <td>0.29</td>\n",
       "      <td>74.0</td>\n",
       "      <td>7.9</td>\n",
       "      <td>E10+</td>\n",
       "    </tr>\n",
       "    <tr>\n",
       "      <td>475</td>\n",
       "      <td>wwe Smackdown vs. Raw 2006</td>\n",
       "      <td>PS2</td>\n",
       "      <td>NaN</td>\n",
       "      <td>Fighting</td>\n",
       "      <td>1.57</td>\n",
       "      <td>1.02</td>\n",
       "      <td>0.00</td>\n",
       "      <td>0.41</td>\n",
       "      <td>NaN</td>\n",
       "      <td>NaN</td>\n",
       "      <td>NaN</td>\n",
       "    </tr>\n",
       "    <tr>\n",
       "      <td>609</td>\n",
       "      <td>Space Invaders</td>\n",
       "      <td>2600</td>\n",
       "      <td>NaN</td>\n",
       "      <td>Shooter</td>\n",
       "      <td>2.36</td>\n",
       "      <td>0.14</td>\n",
       "      <td>0.00</td>\n",
       "      <td>0.03</td>\n",
       "      <td>NaN</td>\n",
       "      <td>NaN</td>\n",
       "      <td>NaN</td>\n",
       "    </tr>\n",
       "  </tbody>\n",
       "</table>\n",
       "</div>"
      ],
      "text/plain": [
       "                           name platform  year_of_release     genre  na_sales  \\\n",
       "183             Madden NFL 2004      PS2              NaN    Sports      4.26   \n",
       "377            FIFA Soccer 2004      PS2              NaN    Sports      0.59   \n",
       "456  LEGO Batman: The Videogame      Wii              NaN    Action      1.80   \n",
       "475  wwe Smackdown vs. Raw 2006      PS2              NaN  Fighting      1.57   \n",
       "609              Space Invaders     2600              NaN   Shooter      2.36   \n",
       "\n",
       "     eu_sales  jp_sales  other_sales  critic_score user_score rating  \n",
       "183      0.26      0.01         0.71          94.0        8.5      E  \n",
       "377      2.36      0.04         0.51          84.0        6.4      E  \n",
       "456      0.97      0.00         0.29          74.0        7.9   E10+  \n",
       "475      1.02      0.00         0.41           NaN        NaN    NaN  \n",
       "609      0.14      0.00         0.03           NaN        NaN    NaN  "
      ]
     },
     "execution_count": 15,
     "metadata": {},
     "output_type": "execute_result"
    }
   ],
   "source": [
    "# Displaying rows missing year of release \n",
    "pd.set_option('display.max_rows', 500)\n",
    "y_o_r = games_data[games_data['year_of_release'].isnull()]\n",
    "y_o_r.head()"
   ]
  },
  {
   "cell_type": "code",
   "execution_count": 16,
   "metadata": {},
   "outputs": [],
   "source": [
    "# Inspecting data slice \n",
    "# y_o_r.describe()\n",
    "# y_o_r['platform'].value_counts()\n",
    "# y_o_r['name'].value_counts()"
   ]
  },
  {
   "cell_type": "markdown",
   "metadata": {},
   "source": [
    "After taking a closer look, we don't see any relationships, connections or patterns between the missing data in the year_of_release column and other values in the dataset. It's hard to say if these values are definitely MCAR since we don't know how this database was put together, the sources of data etc. It's safe to say however that because there are no observable connections in this dataset, that dropping these rows will likely not affect our overall results. "
   ]
  },
  {
   "cell_type": "code",
   "execution_count": 17,
   "metadata": {},
   "outputs": [],
   "source": [
    "# Discarting rows with missing year\n",
    "games_data =  games_data.dropna(subset=['year_of_release'])"
   ]
  },
  {
   "cell_type": "markdown",
   "metadata": {},
   "source": [
    "At this point, we still have a lot of missing values in the user_score, critic_score and rating column. There are too many rows for us to consider discarting rows with missing values. There are also too many rows for us to consider replacing missing values with a representative value, like the average. For this project, we will have to keep the rows as they are, so that we don't change the initial data distribution and not affect our conclusions. With pandas, we can still continue work with missing values in our future calculations."
   ]
  },
  {
   "cell_type": "code",
   "execution_count": 18,
   "metadata": {},
   "outputs": [],
   "source": [
    "# games_data['user_score'] = games_data.user_score.astype(float)"
   ]
  },
  {
   "cell_type": "markdown",
   "metadata": {},
   "source": [
    "#### Coverting Wrong Data Types <a class=\"anchor\" id=\"datatype\"></a>"
   ]
  },
  {
   "cell_type": "code",
   "execution_count": 19,
   "metadata": {},
   "outputs": [],
   "source": [
    "# Changing year_of_release to date and time data type \n",
    "games_data['year_of_release'] = pd.to_datetime(games_data['year_of_release'], format = \"%Y\").dt.strftime('%Y') "
   ]
  },
  {
   "cell_type": "markdown",
   "metadata": {},
   "source": [
    "## Building the Games Dataset  <a class=\"anchor\" id=\"building\"></a>"
   ]
  },
  {
   "cell_type": "markdown",
   "metadata": {},
   "source": [
    "#### Eliminating Outliers"
   ]
  },
  {
   "cell_type": "markdown",
   "metadata": {},
   "source": [
    "Before we can make any other changes using sales information, we'll have to eliminate outliers so that our future calculations and distributions are more accurate. We'll remove outliers from na_sales, jp_sales and eu_sales. We'll note that outliers still may exist in the other columns with numerical data like user_score and critic_score. "
   ]
  },
  {
   "cell_type": "code",
   "execution_count": 20,
   "metadata": {},
   "outputs": [
    {
     "data": {
      "text/plain": [
       "16444"
      ]
     },
     "execution_count": 20,
     "metadata": {},
     "output_type": "execute_result"
    }
   ],
   "source": [
    "# Inspecting data length before deleting outliers \n",
    "len(games_data)"
   ]
  },
  {
   "cell_type": "code",
   "execution_count": 21,
   "metadata": {},
   "outputs": [],
   "source": [
    "# Removing outliers from na_sales\n",
    "z_scores = st.zscore(games_data['na_sales'])\n",
    "abs_z_scores = np.abs(z_scores)\n",
    "filtered_entries = (abs_z_scores < 3) \n",
    "games_data = games_data[filtered_entries]"
   ]
  },
  {
   "cell_type": "code",
   "execution_count": 22,
   "metadata": {},
   "outputs": [],
   "source": [
    "# Removing outliers from jp_sales\n",
    "z_scores = st.zscore(games_data['jp_sales'])\n",
    "abs_z_scores = np.abs(z_scores)\n",
    "filtered_entries = (abs_z_scores < 3) \n",
    "games_data = games_data[filtered_entries]"
   ]
  },
  {
   "cell_type": "code",
   "execution_count": 23,
   "metadata": {},
   "outputs": [],
   "source": [
    "# Removing outliers from eu_sales\n",
    "z_scores = st.zscore(games_data['eu_sales'])\n",
    "abs_z_scores = np.abs(z_scores)\n",
    "filtered_entries = (abs_z_scores < 3) \n",
    "games_data = games_data[filtered_entries]"
   ]
  },
  {
   "cell_type": "code",
   "execution_count": 24,
   "metadata": {},
   "outputs": [],
   "source": [
    "# Removing outliers from other_sales\n",
    "z_scores = st.zscore(games_data['other_sales'])\n",
    "abs_z_scores = np.abs(z_scores)\n",
    "filtered_entries = (abs_z_scores < 3) \n",
    "games_data = games_data[filtered_entries]"
   ]
  },
  {
   "cell_type": "code",
   "execution_count": 25,
   "metadata": {},
   "outputs": [
    {
     "data": {
      "text/plain": [
       "15485"
      ]
     },
     "execution_count": 25,
     "metadata": {},
     "output_type": "execute_result"
    }
   ],
   "source": [
    "# Inspecting new data length without outliers \n",
    "len(games_data)"
   ]
  },
  {
   "cell_type": "markdown",
   "metadata": {},
   "source": [
    "While we have sales information that tell us how much each game sold in North America, Europe and Japan, we don't have a quick and easy way to see total global sales. We'll take a moment to calculate the total sales (the sum of sales in all regions) for each game and put these values in a separate column."
   ]
  },
  {
   "cell_type": "code",
   "execution_count": 26,
   "metadata": {
    "scrolled": true
   },
   "outputs": [
    {
     "data": {
      "text/html": [
       "<div>\n",
       "<style scoped>\n",
       "    .dataframe tbody tr th:only-of-type {\n",
       "        vertical-align: middle;\n",
       "    }\n",
       "\n",
       "    .dataframe tbody tr th {\n",
       "        vertical-align: top;\n",
       "    }\n",
       "\n",
       "    .dataframe thead th {\n",
       "        text-align: right;\n",
       "    }\n",
       "</style>\n",
       "<table border=\"1\" class=\"dataframe\">\n",
       "  <thead>\n",
       "    <tr style=\"text-align: right;\">\n",
       "      <th></th>\n",
       "      <th>name</th>\n",
       "      <th>platform</th>\n",
       "      <th>year_of_release</th>\n",
       "      <th>genre</th>\n",
       "      <th>na_sales</th>\n",
       "      <th>eu_sales</th>\n",
       "      <th>jp_sales</th>\n",
       "      <th>other_sales</th>\n",
       "      <th>critic_score</th>\n",
       "      <th>user_score</th>\n",
       "      <th>rating</th>\n",
       "      <th>sum_sales</th>\n",
       "    </tr>\n",
       "  </thead>\n",
       "  <tbody>\n",
       "    <tr>\n",
       "      <td>346</td>\n",
       "      <td>SOCOM: U.S. Navy SEALs</td>\n",
       "      <td>PS2</td>\n",
       "      <td>2002</td>\n",
       "      <td>Shooter</td>\n",
       "      <td>2.53</td>\n",
       "      <td>0.81</td>\n",
       "      <td>0.06</td>\n",
       "      <td>0.24</td>\n",
       "      <td>82.0</td>\n",
       "      <td>7.9</td>\n",
       "      <td>M</td>\n",
       "      <td>3.34</td>\n",
       "    </tr>\n",
       "    <tr>\n",
       "      <td>348</td>\n",
       "      <td>Pokemon Snap</td>\n",
       "      <td>N64</td>\n",
       "      <td>1999</td>\n",
       "      <td>Simulation</td>\n",
       "      <td>2.23</td>\n",
       "      <td>0.68</td>\n",
       "      <td>0.66</td>\n",
       "      <td>0.06</td>\n",
       "      <td>NaN</td>\n",
       "      <td>NaN</td>\n",
       "      <td>NaN</td>\n",
       "      <td>2.91</td>\n",
       "    </tr>\n",
       "    <tr>\n",
       "      <td>350</td>\n",
       "      <td>Resident Evil 4</td>\n",
       "      <td>PS2</td>\n",
       "      <td>2005</td>\n",
       "      <td>Action</td>\n",
       "      <td>2.08</td>\n",
       "      <td>0.83</td>\n",
       "      <td>0.46</td>\n",
       "      <td>0.25</td>\n",
       "      <td>96.0</td>\n",
       "      <td>8.9</td>\n",
       "      <td>M</td>\n",
       "      <td>2.91</td>\n",
       "    </tr>\n",
       "    <tr>\n",
       "      <td>356</td>\n",
       "      <td>Luigi's Mansion</td>\n",
       "      <td>GC</td>\n",
       "      <td>2001</td>\n",
       "      <td>Action</td>\n",
       "      <td>2.38</td>\n",
       "      <td>0.67</td>\n",
       "      <td>0.46</td>\n",
       "      <td>0.10</td>\n",
       "      <td>78.0</td>\n",
       "      <td>8.5</td>\n",
       "      <td>E</td>\n",
       "      <td>3.05</td>\n",
       "    </tr>\n",
       "    <tr>\n",
       "      <td>399</td>\n",
       "      <td>WWF War Zone</td>\n",
       "      <td>PS</td>\n",
       "      <td>1998</td>\n",
       "      <td>Fighting</td>\n",
       "      <td>2.47</td>\n",
       "      <td>0.76</td>\n",
       "      <td>0.00</td>\n",
       "      <td>0.13</td>\n",
       "      <td>NaN</td>\n",
       "      <td>NaN</td>\n",
       "      <td>NaN</td>\n",
       "      <td>3.23</td>\n",
       "    </tr>\n",
       "  </tbody>\n",
       "</table>\n",
       "</div>"
      ],
      "text/plain": [
       "                       name platform year_of_release       genre  na_sales  \\\n",
       "346  SOCOM: U.S. Navy SEALs      PS2            2002     Shooter      2.53   \n",
       "348            Pokemon Snap      N64            1999  Simulation      2.23   \n",
       "350         Resident Evil 4      PS2            2005      Action      2.08   \n",
       "356         Luigi's Mansion       GC            2001      Action      2.38   \n",
       "399            WWF War Zone       PS            1998    Fighting      2.47   \n",
       "\n",
       "     eu_sales  jp_sales  other_sales  critic_score user_score rating  \\\n",
       "346      0.81      0.06         0.24          82.0        7.9      M   \n",
       "348      0.68      0.66         0.06           NaN        NaN    NaN   \n",
       "350      0.83      0.46         0.25          96.0        8.9      M   \n",
       "356      0.67      0.46         0.10          78.0        8.5      E   \n",
       "399      0.76      0.00         0.13           NaN        NaN    NaN   \n",
       "\n",
       "     sum_sales  \n",
       "346       3.34  \n",
       "348       2.91  \n",
       "350       2.91  \n",
       "356       3.05  \n",
       "399       3.23  "
      ]
     },
     "execution_count": 26,
     "metadata": {},
     "output_type": "execute_result"
    }
   ],
   "source": [
    "# Creating a new column for the sum of all sales\n",
    "games_data['sum_sales'] = games_data['na_sales'] + games_data['eu_sales']\n",
    "+ games_data['jp_sales'] + games_data['other_sales']\n",
    "games_data.head()"
   ]
  },
  {
   "cell_type": "code",
   "execution_count": 27,
   "metadata": {},
   "outputs": [],
   "source": [
    "# Adding another column with the year of release data as an integer\n",
    "# Having it as datetime didn't work for my histograms\n",
    "games_data['year_of_release_int'] = games_data['year_of_release']\n",
    "games_data['year_of_release_int'] = games_data['year_of_release_int'].astype(int)"
   ]
  },
  {
   "cell_type": "markdown",
   "metadata": {},
   "source": [
    "## Exploratory Data Analysis <a class=\"anchor\" id=\"exploratory\"></a>"
   ]
  },
  {
   "cell_type": "markdown",
   "metadata": {},
   "source": [
    "#### Insights  <a class=\"anchor\" id=\"insights\"></a>"
   ]
  },
  {
   "cell_type": "markdown",
   "metadata": {},
   "source": [
    "The games data is rich with insights; we'll draw a couple of important conclusions in the next EDA phase of this report. This next section will be largely comprised by data visualizations that include histograms, bar charts and scatter plots. These will help us to find and describe  insights about this large games dataset. Short summaries of insights are bold, italicized headings below. "
   ]
  },
  {
   "cell_type": "markdown",
   "metadata": {},
   "source": [
    "##### Upward tick in new games began around 1993  <a class=\"anchor\" id=\"insight1\"></a>"
   ]
  },
  {
   "cell_type": "markdown",
   "metadata": {},
   "source": [
    "This histogram shows the number of games released across several decades. We can see a significant uprise in released games in the year 1993. The upward tick continues well into the 2000s and peaks in 2009 and 2010. There is a sharp and lasting decline that brings us into 2016. "
   ]
  },
  {
   "cell_type": "code",
   "execution_count": 28,
   "metadata": {
    "scrolled": true
   },
   "outputs": [
    {
     "data": {
      "text/plain": [
       "Text(0, 0.5, 'Count')"
      ]
     },
     "execution_count": 28,
     "metadata": {},
     "output_type": "execute_result"
    },
    {
     "data": {
      "image/png": "[encoded data removed]",
      "text/plain": [
       "<Figure size 432x288 with 1 Axes>"
      ]
     },
     "metadata": {
      "needs_background": "light"
     },
     "output_type": "display_data"
    }
   ],
   "source": [
    "# Histogram showing how many games were released in different years \n",
    "games_data['year_of_release_int'].hist(bins = 25)\n",
    "plt.title('Games Released 1980-2016')\n",
    "plt.xlabel('Year of Release')\n",
    "plt.ylabel('Count')"
   ]
  },
  {
   "cell_type": "markdown",
   "metadata": {},
   "source": [
    "##### PS2 gaming platform leads in overall sales in period 1980-2016 <a class=\"anchor\" id=\"insight2\"></a>"
   ]
  },
  {
   "cell_type": "markdown",
   "metadata": {},
   "source": [
    "A simple grouping by platform and ordering of our data shows the best performing platforms. We see that PS2, X360, Wii and PS3 outsold other platforms and neared an impressive 1 billion total global sales. "
   ]
  },
  {
   "cell_type": "code",
   "execution_count": 29,
   "metadata": {},
   "outputs": [
    {
     "data": {
      "text/plain": [
       "platform\n",
       "PS2     538.53\n",
       "X360    497.74\n",
       "Wii     376.59\n",
       "PS3     351.99\n",
       "PS      349.13\n",
       "DS      333.63\n",
       "XB      224.19\n",
       "GBA     206.83\n",
       "GC      146.49\n",
       "PC      142.36\n",
       "Name: sum_sales, dtype: float64"
      ]
     },
     "execution_count": 29,
     "metadata": {},
     "output_type": "execute_result"
    }
   ],
   "source": [
    "# Finding platforms with the greatest total sales\n",
    "games_data.groupby('platform')['sum_sales'].sum().nlargest(10)"
   ]
  },
  {
   "cell_type": "markdown",
   "metadata": {},
   "source": [
    "##### Popular gaming platforms now reaching all time low in sales <a class=\"anchor\" id=\"insight3\"></a> "
   ]
  },
  {
   "cell_type": "markdown",
   "metadata": {},
   "source": [
    "##### Case Studies <a class=\"anchor\" id=\"casestudy\"></a> "
   ]
  },
  {
   "cell_type": "markdown",
   "metadata": {},
   "source": [
    "Our first histogram showed a bell curve to the distribution of games released across the years represented in this dataset. Could this also coincide with the shape of the distribution of global game sales? In the next few case studies we'll look at the distribution of global sales for the overall best performing gaming platforms: PS2, X360, PS3, Wii and DS. \n",
    "\n",
    "A pivot table will help us to group the data a bit differently this time. The focus is now grouping information by year of release and platform type, and aggregating all global sales for these platforms year by year. "
   ]
  },
  {
   "cell_type": "code",
   "execution_count": 30,
   "metadata": {},
   "outputs": [],
   "source": [
    "# Pivot table showing aggregate sales for every platform, with release year as index \n",
    "data_pivot = pd.pivot_table(games_data, index = ['year_of_release_int', 'platform'],\n",
    "                                values = ['sum_sales'], aggfunc = [np.sum])"
   ]
  },
  {
   "cell_type": "markdown",
   "metadata": {},
   "source": [
    "Case Study: PS2 Gaming Platform"
   ]
  },
  {
   "cell_type": "code",
   "execution_count": 31,
   "metadata": {},
   "outputs": [
    {
     "data": {
      "image/png": "[encoded data removed]",
      "text/plain": [
       "<Figure size 432x288 with 1 Axes>"
      ]
     },
     "metadata": {
      "needs_background": "light"
     },
     "output_type": "display_data"
    }
   ],
   "source": [
    "# Line graph showing PS2 sales across time \n",
    "PS2_data_pivot = data_pivot.query(\"platform in 'PS2'\")\n",
    "year_of_release = np.arange(2000, 2012).astype(str)\n",
    "y_pos = np.arange(len(year_of_release))\n",
    "sum_sales = PS2_data_pivot[('sum', 'sum_sales')]\n",
    "\n",
    "plt.barh(y_pos, sum_sales, align='center', alpha=0.5)\n",
    "plt.yticks(y_pos, year_of_release)\n",
    "plt.xlabel('Sales (in millions)')\n",
    "plt.title('PS2 overall sales across time')\n",
    "\n",
    "plt.show()"
   ]
  },
  {
   "cell_type": "markdown",
   "metadata": {},
   "source": [
    "Case Study: X360 Gaming Platform"
   ]
  },
  {
   "cell_type": "code",
   "execution_count": 32,
   "metadata": {},
   "outputs": [
    {
     "data": {
      "image/png": "[encoded data removed]",
      "text/plain": [
       "<Figure size 432x288 with 1 Axes>"
      ]
     },
     "metadata": {
      "needs_background": "light"
     },
     "output_type": "display_data"
    }
   ],
   "source": [
    "# Line graph showing X360 sales across time \n",
    "X360_data_pivot = data_pivot.query(\"platform in 'X360'\")\n",
    "year_of_release = ('2005', '2006', '2007', '2008', '2009', '2010', '2011', '2012', '2013', '2014', '2015', '2016')\n",
    "y_pos = np.arange(len(year_of_release))\n",
    "sum_sales = X360_data_pivot[('sum', 'sum_sales')]\n",
    "\n",
    "plt.barh(y_pos, sum_sales, align='center', alpha=0.5)\n",
    "plt.yticks(y_pos, year_of_release)\n",
    "plt.xlabel('Sales (in millions)')\n",
    "plt.title('X360 overall sales across time')\n",
    "\n",
    "plt.show()"
   ]
  },
  {
   "cell_type": "markdown",
   "metadata": {},
   "source": [
    "Case Study: PS3 Gaming Platform"
   ]
  },
  {
   "cell_type": "code",
   "execution_count": 33,
   "metadata": {},
   "outputs": [
    {
     "data": {
      "image/png": "[encoded data removed]",
      "text/plain": [
       "<Figure size 432x288 with 1 Axes>"
      ]
     },
     "metadata": {
      "needs_background": "light"
     },
     "output_type": "display_data"
    }
   ],
   "source": [
    "# Line graph showing PS3 sales across time \n",
    "PS3_data_pivot = data_pivot.query(\"platform in 'PS3'\")\n",
    "year_of_release = ('2006', '2007', '2008', '2009', '2010', '2011', '2012', '2013', '2014', '2015', '2016')\n",
    "y_pos = np.arange(len(year_of_release))\n",
    "sum_sales = PS3_data_pivot[('sum', 'sum_sales')]\n",
    "\n",
    "plt.barh(y_pos, sum_sales, align='center', alpha=0.5)\n",
    "plt.yticks(y_pos, year_of_release)\n",
    "plt.xlabel('Sales (in millions)')\n",
    "plt.title('PS3 overall sales across time')\n",
    "\n",
    "plt.show()"
   ]
  },
  {
   "cell_type": "markdown",
   "metadata": {},
   "source": [
    "Case Study: Wii Gaming Platform"
   ]
  },
  {
   "cell_type": "code",
   "execution_count": 34,
   "metadata": {},
   "outputs": [
    {
     "data": {
      "image/png": "[encoded data removed]",
      "text/plain": [
       "<Figure size 432x288 with 1 Axes>"
      ]
     },
     "metadata": {
      "needs_background": "light"
     },
     "output_type": "display_data"
    }
   ],
   "source": [
    "# Line graph showing Wii sales across time \n",
    "Wii_data_pivot = data_pivot.query(\"platform in 'Wii'\")\n",
    "year_of_release = ('2006', '2007', '2008', '2009', '2010', '2011', '2012', '2013', '2014', '2015', '2016')\n",
    "y_pos = np.arange(len(year_of_release))\n",
    "sum_sales = Wii_data_pivot[('sum', 'sum_sales')]\n",
    "\n",
    "plt.barh(y_pos, sum_sales, align='center', alpha=0.5)\n",
    "plt.yticks(y_pos, year_of_release)\n",
    "plt.xlabel('Sales (in millions)')\n",
    "plt.title('Wii overall sales across time')\n",
    "\n",
    "plt.show()"
   ]
  },
  {
   "cell_type": "markdown",
   "metadata": {},
   "source": [
    "Case Study: DS Gaming Platform"
   ]
  },
  {
   "cell_type": "code",
   "execution_count": 35,
   "metadata": {},
   "outputs": [
    {
     "data": {
      "image/png": "[encoded data removed]",
      "text/plain": [
       "<Figure size 432x288 with 1 Axes>"
      ]
     },
     "metadata": {
      "needs_background": "light"
     },
     "output_type": "display_data"
    }
   ],
   "source": [
    "# Line graph showing DS sales across time \n",
    "DS_data_pivot = data_pivot.query(\"platform in 'DS'\")\n",
    "year_of_release = ('1985', '2004', '2005', '2006', '2007', '2008', '2009', '2010', '2011', '2012', '2013')\n",
    "y_pos = np.arange(len(year_of_release))\n",
    "sum_sales = DS_data_pivot[('sum', 'sum_sales')]\n",
    "\n",
    "plt.barh(y_pos, sum_sales, align='center', alpha=0.5)\n",
    "plt.yticks(y_pos, year_of_release)\n",
    "plt.xlabel('Sales (in millions)')\n",
    "plt.title('DS overall sales across time')\n",
    "\n",
    "plt.show()"
   ]
  },
  {
   "cell_type": "markdown",
   "metadata": {},
   "source": [
    "##### Aggregated global sales (2006-2016) vary across gaming platforms   <a class=\"anchor\" id=\"aggregated\"></a>"
   ]
  },
  {
   "cell_type": "markdown",
   "metadata": {},
   "source": [
    "To begin painting a picture that is representative of currently successful games, we'll have to discard some of our data. By cutting our data to represent 10 years between 2006 and 2016, we can draw more relevant insights about global sales. To this point, the next pivot table shows each platform in our dataset, the accompaying number of games released during this time period and the aggregated global sales for these. "
   ]
  },
  {
   "cell_type": "code",
   "execution_count": 36,
   "metadata": {},
   "outputs": [],
   "source": [
    "# Discarting data for games released in years prior to 2006 \n",
    "games_data = games_data.query(\"year_of_release_int > 2005\")"
   ]
  },
  {
   "cell_type": "code",
   "execution_count": 37,
   "metadata": {},
   "outputs": [
    {
     "data": {
      "text/html": [
       "<div>\n",
       "<style scoped>\n",
       "    .dataframe tbody tr th:only-of-type {\n",
       "        vertical-align: middle;\n",
       "    }\n",
       "\n",
       "    .dataframe tbody tr th {\n",
       "        vertical-align: top;\n",
       "    }\n",
       "\n",
       "    .dataframe thead tr th {\n",
       "        text-align: left;\n",
       "    }\n",
       "\n",
       "    .dataframe thead tr:last-of-type th {\n",
       "        text-align: right;\n",
       "    }\n",
       "</style>\n",
       "<table border=\"1\" class=\"dataframe\">\n",
       "  <thead>\n",
       "    <tr>\n",
       "      <th></th>\n",
       "      <th>len</th>\n",
       "      <th>sum</th>\n",
       "    </tr>\n",
       "    <tr>\n",
       "      <th></th>\n",
       "      <th>sum_sales</th>\n",
       "      <th>sum_sales</th>\n",
       "    </tr>\n",
       "    <tr>\n",
       "      <th>platform</th>\n",
       "      <th></th>\n",
       "      <th></th>\n",
       "    </tr>\n",
       "  </thead>\n",
       "  <tbody>\n",
       "    <tr>\n",
       "      <td>X360</td>\n",
       "      <td>1142.0</td>\n",
       "      <td>490.41</td>\n",
       "    </tr>\n",
       "    <tr>\n",
       "      <td>Wii</td>\n",
       "      <td>1238.0</td>\n",
       "      <td>376.59</td>\n",
       "    </tr>\n",
       "    <tr>\n",
       "      <td>PS3</td>\n",
       "      <td>1185.0</td>\n",
       "      <td>351.99</td>\n",
       "    </tr>\n",
       "    <tr>\n",
       "      <td>DS</td>\n",
       "      <td>1922.0</td>\n",
       "      <td>315.27</td>\n",
       "    </tr>\n",
       "    <tr>\n",
       "      <td>PS2</td>\n",
       "      <td>739.0</td>\n",
       "      <td>106.03</td>\n",
       "    </tr>\n",
       "    <tr>\n",
       "      <td>PC</td>\n",
       "      <td>754.0</td>\n",
       "      <td>98.81</td>\n",
       "    </tr>\n",
       "    <tr>\n",
       "      <td>XOne</td>\n",
       "      <td>231.0</td>\n",
       "      <td>90.00</td>\n",
       "    </tr>\n",
       "    <tr>\n",
       "      <td>PSP</td>\n",
       "      <td>1049.0</td>\n",
       "      <td>89.44</td>\n",
       "    </tr>\n",
       "    <tr>\n",
       "      <td>PS4</td>\n",
       "      <td>333.0</td>\n",
       "      <td>71.35</td>\n",
       "    </tr>\n",
       "    <tr>\n",
       "      <td>3DS</td>\n",
       "      <td>481.0</td>\n",
       "      <td>67.38</td>\n",
       "    </tr>\n",
       "    <tr>\n",
       "      <td>WiiU</td>\n",
       "      <td>139.0</td>\n",
       "      <td>38.06</td>\n",
       "    </tr>\n",
       "    <tr>\n",
       "      <td>PSV</td>\n",
       "      <td>426.0</td>\n",
       "      <td>22.62</td>\n",
       "    </tr>\n",
       "    <tr>\n",
       "      <td>GC</td>\n",
       "      <td>44.0</td>\n",
       "      <td>11.06</td>\n",
       "    </tr>\n",
       "    <tr>\n",
       "      <td>XB</td>\n",
       "      <td>66.0</td>\n",
       "      <td>10.42</td>\n",
       "    </tr>\n",
       "    <tr>\n",
       "      <td>GBA</td>\n",
       "      <td>45.0</td>\n",
       "      <td>7.03</td>\n",
       "    </tr>\n",
       "    <tr>\n",
       "      <td>DC</td>\n",
       "      <td>2.0</td>\n",
       "      <td>0.00</td>\n",
       "    </tr>\n",
       "  </tbody>\n",
       "</table>\n",
       "</div>"
      ],
      "text/plain": [
       "               len       sum\n",
       "         sum_sales sum_sales\n",
       "platform                    \n",
       "X360        1142.0    490.41\n",
       "Wii         1238.0    376.59\n",
       "PS3         1185.0    351.99\n",
       "DS          1922.0    315.27\n",
       "PS2          739.0    106.03\n",
       "PC           754.0     98.81\n",
       "XOne         231.0     90.00\n",
       "PSP         1049.0     89.44\n",
       "PS4          333.0     71.35\n",
       "3DS          481.0     67.38\n",
       "WiiU         139.0     38.06\n",
       "PSV          426.0     22.62\n",
       "GC            44.0     11.06\n",
       "XB            66.0     10.42\n",
       "GBA           45.0      7.03\n",
       "DC             2.0      0.00"
      ]
     },
     "execution_count": 37,
     "metadata": {},
     "output_type": "execute_result"
    }
   ],
   "source": [
    "# Pivot table showing aggregate sales for every platform, with platform as index \n",
    "platform_data_pivot = pd.pivot_table(games_data, index = ['platform'],\n",
    "                                values = ['sum_sales'], aggfunc = [len, np.sum])\n",
    "platform_data_pivot.sort_values(by = ('sum', 'sum_sales'), ascending = False)"
   ]
  },
  {
   "cell_type": "code",
   "execution_count": 38,
   "metadata": {
    "scrolled": false
   },
   "outputs": [
    {
     "data": {
      "image/png": "[encoded data removed]",
      "text/plain": [
       "<Figure size 432x288 with 1 Axes>"
      ]
     },
     "metadata": {
      "needs_background": "light"
     },
     "output_type": "display_data"
    }
   ],
   "source": [
    "# Boxplot to assess the distribution of global sales of all games \n",
    "games_data.boxplot(by ='platform', column =['sum_sales'], grid = False) \n",
    "\n",
    "plt.xlabel('Platforms')\n",
    "plt.ylabel('')\n",
    "plt.ylim(0,3)\n",
    "\n",
    "plt.show()"
   ]
  },
  {
   "cell_type": "markdown",
   "metadata": {},
   "source": [
    "This box plot visualization shows the differences in sales appear to be significant. I should note that this distribution doesn't distinguish or group data by year of release or name of game. This boxplot shows overall sales data for each platform in the period 2006-2016. "
   ]
  },
  {
   "cell_type": "markdown",
   "metadata": {},
   "source": [
    "##### Which platforms are leading in sales? Which ones are growing or shrinking?"
   ]
  },
  {
   "cell_type": "markdown",
   "metadata": {},
   "source": [
    "By grouping our data by platform and year of release, we can see that the only platform which has shown consistent positive growth is PS4. All other gaming platforms have experienced ups and downs, and generally experiencing an early rise in global sales followed by rapid decline. "
   ]
  },
  {
   "cell_type": "code",
   "execution_count": 39,
   "metadata": {
    "scrolled": false
   },
   "outputs": [
    {
     "data": {
      "text/html": [
       "<div>\n",
       "<style scoped>\n",
       "    .dataframe tbody tr th:only-of-type {\n",
       "        vertical-align: middle;\n",
       "    }\n",
       "\n",
       "    .dataframe tbody tr th {\n",
       "        vertical-align: top;\n",
       "    }\n",
       "\n",
       "    .dataframe thead th {\n",
       "        text-align: right;\n",
       "    }\n",
       "</style>\n",
       "<table border=\"1\" class=\"dataframe\">\n",
       "  <thead>\n",
       "    <tr style=\"text-align: right;\">\n",
       "      <th></th>\n",
       "      <th>platform</th>\n",
       "      <th>year_of_release_int</th>\n",
       "      <th>sum_sales</th>\n",
       "    </tr>\n",
       "  </thead>\n",
       "  <tbody>\n",
       "    <tr>\n",
       "      <td>0</td>\n",
       "      <td>3DS</td>\n",
       "      <td>2011</td>\n",
       "      <td>20.74</td>\n",
       "    </tr>\n",
       "    <tr>\n",
       "      <td>1</td>\n",
       "      <td>3DS</td>\n",
       "      <td>2012</td>\n",
       "      <td>17.60</td>\n",
       "    </tr>\n",
       "    <tr>\n",
       "      <td>2</td>\n",
       "      <td>3DS</td>\n",
       "      <td>2013</td>\n",
       "      <td>11.40</td>\n",
       "    </tr>\n",
       "    <tr>\n",
       "      <td>3</td>\n",
       "      <td>3DS</td>\n",
       "      <td>2014</td>\n",
       "      <td>6.38</td>\n",
       "    </tr>\n",
       "    <tr>\n",
       "      <td>4</td>\n",
       "      <td>3DS</td>\n",
       "      <td>2015</td>\n",
       "      <td>9.22</td>\n",
       "    </tr>\n",
       "  </tbody>\n",
       "</table>\n",
       "</div>"
      ],
      "text/plain": [
       "  platform  year_of_release_int  sum_sales\n",
       "0      3DS                 2011      20.74\n",
       "1      3DS                 2012      17.60\n",
       "2      3DS                 2013      11.40\n",
       "3      3DS                 2014       6.38\n",
       "4      3DS                 2015       9.22"
      ]
     },
     "execution_count": 39,
     "metadata": {},
     "output_type": "execute_result"
    }
   ],
   "source": [
    "# Creating a new dataframe where data is grouped by multiple columns\n",
    "grouped_multiple = games_data.groupby(['platform', 'year_of_release_int']).agg({'sum_sales': ['sum']})\n",
    "# Flattening after aggregating by renaming the new columns\n",
    "grouped_multiple.columns = ['sum_sales']\n",
    "# Reseting index\n",
    "grouped_multiple = grouped_multiple.reset_index()\n",
    "grouped_multiple.head()"
   ]
  },
  {
   "cell_type": "markdown",
   "metadata": {},
   "source": [
    "#### PS4 gaming platform shows overall positive growth then stalls"
   ]
  },
  {
   "cell_type": "code",
   "execution_count": 40,
   "metadata": {},
   "outputs": [
    {
     "name": "stderr",
     "output_type": "stream",
     "text": [
      "/Users/mitzibandera/opt/anaconda3/lib/python3.7/site-packages/pandas/core/frame.py:3494: SettingWithCopyWarning: \n",
      "A value is trying to be set on a copy of a slice from a DataFrame.\n",
      "Try using .loc[row_indexer,col_indexer] = value instead\n",
      "\n",
      "See the caveats in the documentation: http://pandas.pydata.org/pandas-docs/stable/user_guide/indexing.html#returning-a-view-versus-a-copy\n",
      "  self[k1] = value[k2]\n",
      "posx and posy should be finite values\n",
      "posx and posy should be finite values\n"
     ]
    },
    {
     "data": {
      "image/png": "[encoded data removed]",
      "text/plain": [
       "<Figure size 432x288 with 1 Axes>"
      ]
     },
     "metadata": {
      "needs_background": "light"
     },
     "output_type": "display_data"
    }
   ],
   "source": [
    "# Querying for PS4 platform\n",
    "ps4_growth = grouped_multiple.query('platform in \"PS4\"')\n",
    "# Adding yearly change as a percentage  \n",
    "ps4_growth[['yearly_change']]=round((ps4_growth[['sum_sales']].pct_change())*100)\n",
    "# Bar chart\n",
    "x = ('2013', '2014', '2015', '2016')\n",
    "y = ps4_growth[('yearly_change')]\n",
    "\n",
    "plt.bar(x, y)\n",
    "\n",
    "plt.xticks(x, rotation='vertical')\n",
    "\n",
    "for a,b in zip(x, y):\n",
    "    plt.text(a, b, str(b))\n",
    "plt.show()"
   ]
  },
  {
   "cell_type": "markdown",
   "metadata": {},
   "source": [
    "##### Is there a relationship between reviews and sales for the platform PS3? <a class=\"anchor\" id=\"relationship\"></a>"
   ]
  },
  {
   "cell_type": "markdown",
   "metadata": {},
   "source": [
    "Is our review data a good indicator of what sales would b (or vice versa)? Below, we will be analyzing a potential relationship between these elements. In order to explore a relationship, we will utilize a scatterplot and correlation to observe any positive or negative correlations. The scatterplot function in pandas requires the y column to be all numeric and since the user_score column in our games data has the string 'tbd' in it, we will now create a new dataframe to look just at PS3 data and also discard the 87 rows with the string 'tbd' in it. "
   ]
  },
  {
   "cell_type": "code",
   "execution_count": 41,
   "metadata": {},
   "outputs": [],
   "source": [
    "# Querying for just data on PS3 \n",
    "PS3_data = games_data.query(\"platform in 'PS3'\")"
   ]
  },
  {
   "cell_type": "code",
   "execution_count": 42,
   "metadata": {},
   "outputs": [],
   "source": [
    "# Querying for just numerical data in user_score column, without 'tbd' string value \n",
    "PS3_data = PS3_data.query(\"user_score not in 'tbd'\")"
   ]
  },
  {
   "cell_type": "code",
   "execution_count": 43,
   "metadata": {},
   "outputs": [],
   "source": [
    "# Changing the user_score data type from object to float \n",
    "PS3_data['user_score'] = PS3_data.user_score.astype(float)"
   ]
  },
  {
   "cell_type": "code",
   "execution_count": 44,
   "metadata": {},
   "outputs": [
    {
     "data": {
      "image/png": "[encoded data removed]",
      "text/plain": [
       "<Figure size 432x288 with 1 Axes>"
      ]
     },
     "metadata": {
      "needs_background": "light"
     },
     "output_type": "display_data"
    },
    {
     "name": "stdout",
     "output_type": "stream",
     "text": [
      "0.20591507559036337\n"
     ]
    }
   ],
   "source": [
    "# Scatterplot to show relationship between user_score and sales\n",
    "PS3_data.plot(x = 'sum_sales', y = 'user_score', kind = 'scatter')\n",
    "plt.show()\n",
    "print(PS3_data['sum_sales'].corr(PS3_data['user_score']))"
   ]
  },
  {
   "cell_type": "code",
   "execution_count": 45,
   "metadata": {
    "scrolled": true
   },
   "outputs": [
    {
     "data": {
      "image/png": "[encoded data removed]",
      "text/plain": [
       "<Figure size 432x288 with 1 Axes>"
      ]
     },
     "metadata": {
      "needs_background": "light"
     },
     "output_type": "display_data"
    },
    {
     "name": "stdout",
     "output_type": "stream",
     "text": [
      "0.5159584884092175\n"
     ]
    }
   ],
   "source": [
    "# Scatterplot to show relationship between critic_score and sales\n",
    "PS3_data.plot(x = 'sum_sales', y = 'critic_score', kind = 'scatter')\n",
    "plt.show()\n",
    "print(PS3_data['sum_sales'].corr(PS3_data['critic_score']))"
   ]
  },
  {
   "cell_type": "markdown",
   "metadata": {},
   "source": [
    "We see that there exists a positive correlation for both scatterplots. However, only the relationship between sales and critic score shows enough of a strong positive correlation to indicate that the relationship can be reproduced. Stepping back, it makese sense that global sales would be strongly correlated to critic scores as critic reviews may be widely distributed and prompt customers to become aware or excited about purchasing a new game. However, for now we won't continue to speculate about the cause of the relationship, and just take note.\n",
    "\n",
    "The weak positive relationship between user_score and global sales is also another area to further explore. One would think that the better a user reviews a game, the higher the quality of the game would be as most users tend to positively review high quality products. The weak correlation might indicate that users are not happy with the products they are purchasing, or maybe that they are purchasing games without placing too much importance on quality. Again, we won't speculate or come to a conclusion before conducting additional statistical tests and collecting more data. "
   ]
  },
  {
   "cell_type": "markdown",
   "metadata": {},
   "source": [
    "##### Grand Theft Auto V had most profitable partnership with PS3 gaming platform <a class=\"anchor\" id=\"grand\"></a>"
   ]
  },
  {
   "cell_type": "code",
   "execution_count": 46,
   "metadata": {},
   "outputs": [
    {
     "data": {
      "image/png": "[encoded data removed]",
      "text/plain": [
       "<Figure size 432x288 with 1 Axes>"
      ]
     },
     "metadata": {
      "needs_background": "light"
     },
     "output_type": "display_data"
    }
   ],
   "source": [
    "# Querying for Grand Theft Auto V across all platforms \n",
    "GTA5_data = games_data.query(\"name in 'Grand Theft Auto V'\")\n",
    "# Bar plot showing distribution of sales across different platforms \n",
    "GTA5_data.plot(x = 'platform', y = 'sum_sales', kind = 'bar')\n",
    "\n",
    "plt.xlabel('Platform')\n",
    "plt.ylabel('Sales (in millions)')\n",
    "plt.title('Global Sales for GTA5 Across Different Platforms')\n",
    "\n",
    "plt.show()"
   ]
  },
  {
   "cell_type": "markdown",
   "metadata": {},
   "source": [
    "##### Action is highest selling genre while Strategy is the lowest <a class=\"anchor\" id=\"action\"></a>"
   ]
  },
  {
   "cell_type": "code",
   "execution_count": 47,
   "metadata": {},
   "outputs": [
    {
     "data": {
      "text/html": [
       "<div>\n",
       "<style scoped>\n",
       "    .dataframe tbody tr th:only-of-type {\n",
       "        vertical-align: middle;\n",
       "    }\n",
       "\n",
       "    .dataframe tbody tr th {\n",
       "        vertical-align: top;\n",
       "    }\n",
       "\n",
       "    .dataframe thead tr th {\n",
       "        text-align: left;\n",
       "    }\n",
       "\n",
       "    .dataframe thead tr:last-of-type th {\n",
       "        text-align: right;\n",
       "    }\n",
       "</style>\n",
       "<table border=\"1\" class=\"dataframe\">\n",
       "  <thead>\n",
       "    <tr>\n",
       "      <th></th>\n",
       "      <th>len</th>\n",
       "      <th>sum</th>\n",
       "      <th>proportion</th>\n",
       "    </tr>\n",
       "    <tr>\n",
       "      <th></th>\n",
       "      <th>sum_sales</th>\n",
       "      <th>sum_sales</th>\n",
       "      <th></th>\n",
       "    </tr>\n",
       "    <tr>\n",
       "      <th>genre</th>\n",
       "      <th></th>\n",
       "      <th></th>\n",
       "      <th></th>\n",
       "    </tr>\n",
       "  </thead>\n",
       "  <tbody>\n",
       "    <tr>\n",
       "      <td>Action</td>\n",
       "      <td>2257.0</td>\n",
       "      <td>529.79</td>\n",
       "      <td>4.260179</td>\n",
       "    </tr>\n",
       "    <tr>\n",
       "      <td>Sports</td>\n",
       "      <td>1185.0</td>\n",
       "      <td>345.26</td>\n",
       "      <td>3.432196</td>\n",
       "    </tr>\n",
       "    <tr>\n",
       "      <td>Misc</td>\n",
       "      <td>1196.0</td>\n",
       "      <td>250.54</td>\n",
       "      <td>4.773689</td>\n",
       "    </tr>\n",
       "    <tr>\n",
       "      <td>Shooter</td>\n",
       "      <td>653.0</td>\n",
       "      <td>236.55</td>\n",
       "      <td>2.760516</td>\n",
       "    </tr>\n",
       "    <tr>\n",
       "      <td>Role-Playing</td>\n",
       "      <td>932.0</td>\n",
       "      <td>155.08</td>\n",
       "      <td>6.009801</td>\n",
       "    </tr>\n",
       "    <tr>\n",
       "      <td>Racing</td>\n",
       "      <td>528.0</td>\n",
       "      <td>138.63</td>\n",
       "      <td>3.808699</td>\n",
       "    </tr>\n",
       "    <tr>\n",
       "      <td>Simulation</td>\n",
       "      <td>584.0</td>\n",
       "      <td>124.68</td>\n",
       "      <td>4.683991</td>\n",
       "    </tr>\n",
       "    <tr>\n",
       "      <td>Fighting</td>\n",
       "      <td>393.0</td>\n",
       "      <td>94.76</td>\n",
       "      <td>4.147320</td>\n",
       "    </tr>\n",
       "    <tr>\n",
       "      <td>Platform</td>\n",
       "      <td>307.0</td>\n",
       "      <td>93.00</td>\n",
       "      <td>3.301075</td>\n",
       "    </tr>\n",
       "    <tr>\n",
       "      <td>Adventure</td>\n",
       "      <td>1015.0</td>\n",
       "      <td>79.93</td>\n",
       "      <td>12.698611</td>\n",
       "    </tr>\n",
       "    <tr>\n",
       "      <td>Puzzle</td>\n",
       "      <td>357.0</td>\n",
       "      <td>52.90</td>\n",
       "      <td>6.748582</td>\n",
       "    </tr>\n",
       "    <tr>\n",
       "      <td>Strategy</td>\n",
       "      <td>389.0</td>\n",
       "      <td>45.34</td>\n",
       "      <td>8.579621</td>\n",
       "    </tr>\n",
       "  </tbody>\n",
       "</table>\n",
       "</div>"
      ],
      "text/plain": [
       "                   len       sum proportion\n",
       "             sum_sales sum_sales           \n",
       "genre                                      \n",
       "Action          2257.0    529.79   4.260179\n",
       "Sports          1185.0    345.26   3.432196\n",
       "Misc            1196.0    250.54   4.773689\n",
       "Shooter          653.0    236.55   2.760516\n",
       "Role-Playing     932.0    155.08   6.009801\n",
       "Racing           528.0    138.63   3.808699\n",
       "Simulation       584.0    124.68   4.683991\n",
       "Fighting         393.0     94.76   4.147320\n",
       "Platform         307.0     93.00   3.301075\n",
       "Adventure       1015.0     79.93  12.698611\n",
       "Puzzle           357.0     52.90   6.748582\n",
       "Strategy         389.0     45.34   8.579621"
      ]
     },
     "execution_count": 47,
     "metadata": {},
     "output_type": "execute_result"
    }
   ],
   "source": [
    "# Creating a pivot table to group data by genre\n",
    "genre_data_pivot = pd.pivot_table(games_data, index = ['genre'],\n",
    "                                values = ['sum_sales'], aggfunc = [len, np.sum])\n",
    "# Creating a new column to show proportion between number of games released in that genre and overall global sales\n",
    "genre_data_pivot['proportion'] = genre_data_pivot[('len', 'sum_sales')]/genre_data_pivot[('sum', 'sum_sales')]\n",
    "# Showing sorted pivot table \n",
    "genre_data_pivot.sort_values(by = ('sum', 'sum_sales'), ascending = False)"
   ]
  },
  {
   "cell_type": "markdown",
   "metadata": {},
   "source": [
    "How can i rename these columns? "
   ]
  },
  {
   "cell_type": "code",
   "execution_count": 48,
   "metadata": {},
   "outputs": [
    {
     "data": {
      "image/png": "[encoded data removed]",
      "text/plain": [
       "<Figure size 432x288 with 1 Axes>"
      ]
     },
     "metadata": {
      "needs_background": "light"
     },
     "output_type": "display_data"
    }
   ],
   "source": [
    "# Bar plot showing sales across genre \n",
    "genre_data_pivot.plot(kind='bar')\n",
    "\n",
    "plt.xlabel('Genre')\n",
    "plt.ylabel('Sales (in millions)')\n",
    "plt.title('Global Sales Across Genre')\n",
    "\n",
    "plt.show()"
   ]
  },
  {
   "cell_type": "markdown",
   "metadata": {},
   "source": [
    "Unsurprisingly, action is the best performing game genre bringing in nearly 1 billion in global sales. By drawing the pivot table and corresponding bar chart above, we can also easily see the proportion of games to sales. The table shows us that the higher the proportion, the less games that genre needed to have higher sales. Clearly, game genres like Adventure and Strategy have a niche customer base!  "
   ]
  },
  {
   "cell_type": "markdown",
   "metadata": {},
   "source": [
    "## User Profiles by Region <a class=\"anchor\" id=\"profiles\"></a>"
   ]
  },
  {
   "cell_type": "markdown",
   "metadata": {},
   "source": [
    "Online retailers can learn about the success of games on a global scale, however knowing what types of platforms and genres sell best by region can be transformative for marketing purposes. In this next section, we show the differences and similarities in the top selling platforms and genres across North America, Europe and Japan. Some platforms and genres remain consistently popular while we can also observe drastic differences, especially in Japan. \n",
    "\n",
    "We find that North America is the biggest consumer, followed by Europe and Japan trails far behind. Not only do sales differ greatly in Japan, but we also see platforms we haven't seen before and see role-playing is a distinctively popular genre in this country. "
   ]
  },
  {
   "cell_type": "markdown",
   "metadata": {},
   "source": [
    "#### North America <a class=\"anchor\" id=\"na\"></a>"
   ]
  },
  {
   "cell_type": "code",
   "execution_count": 49,
   "metadata": {},
   "outputs": [
    {
     "data": {
      "text/plain": [
       "platform\n",
       "X360    345.21\n",
       "Wii     270.21\n",
       "DS      240.30\n",
       "PS3     209.88\n",
       "PS2      74.44\n",
       "Name: na_sales, dtype: float64"
      ]
     },
     "execution_count": 49,
     "metadata": {},
     "output_type": "execute_result"
    }
   ],
   "source": [
    "# Showing top five platforms\n",
    "games_data.groupby('platform')['na_sales'].sum().nlargest(5)"
   ]
  },
  {
   "cell_type": "code",
   "execution_count": 50,
   "metadata": {},
   "outputs": [
    {
     "data": {
      "text/plain": [
       "genre\n",
       "Action          335.20\n",
       "Sports          253.79\n",
       "Misc            173.75\n",
       "Shooter         144.39\n",
       "Role-Playing    105.39\n",
       "Name: na_sales, dtype: float64"
      ]
     },
     "execution_count": 50,
     "metadata": {},
     "output_type": "execute_result"
    }
   ],
   "source": [
    "# Showing top five genres\n",
    "games_data.groupby('genre')['na_sales'].sum().nlargest(5)"
   ]
  },
  {
   "cell_type": "markdown",
   "metadata": {},
   "source": [
    "#### Europe <a class=\"anchor\" id=\"eu\"></a>"
   ]
  },
  {
   "cell_type": "code",
   "execution_count": 51,
   "metadata": {},
   "outputs": [
    {
     "data": {
      "text/plain": [
       "platform\n",
       "X360    145.20\n",
       "PS3     142.11\n",
       "Wii     106.38\n",
       "DS       74.97\n",
       "PC       69.10\n",
       "Name: eu_sales, dtype: float64"
      ]
     },
     "execution_count": 51,
     "metadata": {},
     "output_type": "execute_result"
    }
   ],
   "source": [
    "# Showing top five platforms\n",
    "games_data.groupby('platform')['eu_sales'].sum().nlargest(5)"
   ]
  },
  {
   "cell_type": "code",
   "execution_count": 52,
   "metadata": {},
   "outputs": [
    {
     "data": {
      "text/plain": [
       "genre\n",
       "Action     194.59\n",
       "Shooter     92.16\n",
       "Sports      91.47\n",
       "Misc        76.79\n",
       "Racing      58.29\n",
       "Name: eu_sales, dtype: float64"
      ]
     },
     "execution_count": 52,
     "metadata": {},
     "output_type": "execute_result"
    }
   ],
   "source": [
    "games_data.groupby('genre')['eu_sales'].sum().nlargest(5)"
   ]
  },
  {
   "cell_type": "markdown",
   "metadata": {},
   "source": [
    "#### Japan <a class=\"anchor\" id=\"jp\"></a>"
   ]
  },
  {
   "cell_type": "code",
   "execution_count": 53,
   "metadata": {},
   "outputs": [
    {
     "data": {
      "text/plain": [
       "platform\n",
       "DS     67.78\n",
       "PS3    55.53\n",
       "PSP    54.78\n",
       "3DS    41.51\n",
       "PS2    29.31\n",
       "Name: jp_sales, dtype: float64"
      ]
     },
     "execution_count": 53,
     "metadata": {},
     "output_type": "execute_result"
    }
   ],
   "source": [
    "# Showing top five platforms\n",
    "games_data.groupby('platform')['jp_sales'].sum().nlargest(5)"
   ]
  },
  {
   "cell_type": "code",
   "execution_count": 54,
   "metadata": {},
   "outputs": [
    {
     "data": {
      "text/plain": [
       "genre\n",
       "Role-Playing    83.81\n",
       "Action          73.18\n",
       "Misc            37.41\n",
       "Adventure       28.24\n",
       "Sports          27.90\n",
       "Name: jp_sales, dtype: float64"
      ]
     },
     "execution_count": 54,
     "metadata": {},
     "output_type": "execute_result"
    }
   ],
   "source": [
    "games_data.groupby('genre')['jp_sales'].sum().nlargest(5)"
   ]
  },
  {
   "cell_type": "markdown",
   "metadata": {},
   "source": [
    "## Testing Between Groups <a class=\"anchor\" id=\"testing\"></a>"
   ]
  },
  {
   "cell_type": "markdown",
   "metadata": {},
   "source": [
    "Now that we've done quite a bit of data analysis regarding global sales of gaming platforms, let's move onto more subjective data like that in our user_score column. Games are reviewed by customers and the ESRB attaches a user score rating on a scale of 0 to 10. The user score data can give us insight that is more specific to the gamer's experience and if they enjoyed playing the game or not. \n",
    "\n",
    "We might work to compare two different types of games and their reviews to mine for successful games, learn about any differences in user scores and more. Today we will test for a statistically significant difference between the average user ratings of the Xbox One and the PC platforms, and a separate test on the difference in user ratings based on the Actions and Sports genre.  \n",
    "\n",
    "From our previous data analysis, we know that PC is an old-timer, having introduced their first game in 2006. Meanwhile, XOne has only started distribution in 2016. Despite their longer time on the market, PC has only accumulated about 8 million in global sales more than XOne. Let's first explore if the user ratings are on average higher, than the user ratings of XOne. \n",
    "\n",
    "In order to conduct our statistical t-test, we'll have to discard any string and missing data from the user score column. If we discard this data, it will only be 1719 rows of strings data and 3558 rows of missing data. Let's move forward with discarding the data and testing our null hypothesis that XOne and PC platforms have the same average user rating.  "
   ]
  },
  {
   "cell_type": "code",
   "execution_count": 55,
   "metadata": {},
   "outputs": [],
   "source": [
    "# Querying for just numerical data in user_score column, without 'tbd' string value \n",
    "games_data = games_data.query(\"user_score not in 'tbd'\")"
   ]
  },
  {
   "cell_type": "code",
   "execution_count": 56,
   "metadata": {},
   "outputs": [],
   "source": [
    "# Discarting rows with missing data \n",
    "games_data =  games_data.dropna(subset=['user_score'])"
   ]
  },
  {
   "cell_type": "code",
   "execution_count": 57,
   "metadata": {},
   "outputs": [],
   "source": [
    "# Changing the user_score data type from object to float \n",
    "games_data['user_score'] = games_data.user_score.astype(float)"
   ]
  },
  {
   "cell_type": "markdown",
   "metadata": {},
   "source": [
    "#### Average user ratings of the Xbox One and PC platforms are the same <a class=\"anchor\" id=\"useraverage\"></a>"
   ]
  },
  {
   "cell_type": "code",
   "execution_count": 58,
   "metadata": {},
   "outputs": [],
   "source": [
    "# Querying for the data to find xbox user score average\n",
    "xbox_user = games_data.query(\"platform in 'XOne'\")"
   ]
  },
  {
   "cell_type": "code",
   "execution_count": 59,
   "metadata": {},
   "outputs": [],
   "source": [
    "# Querying for the data to find pc user score average\n",
    "pc_user = games_data.query(\"platform in 'PC'\")"
   ]
  },
  {
   "cell_type": "code",
   "execution_count": 60,
   "metadata": {},
   "outputs": [
    {
     "name": "stdout",
     "output_type": "stream",
     "text": [
      "p-value: 0.054224368976248626\n",
      "We can't reject the null hypothesis\n"
     ]
    }
   ],
   "source": [
    "# Setting a critical statistical significance level\n",
    "alpha = .05 \n",
    "\n",
    "# Testing the hypothesis that the means of the two independent populations are equal\n",
    "results = st.ttest_ind(\n",
    "        xbox_user['user_score'], \n",
    "        pc_user['user_score'])\n",
    "\n",
    "print('p-value:', results.pvalue)\n",
    "\n",
    "# Comparing the p-value with the statistical significance level\n",
    "if (results.pvalue < alpha): \n",
    "    print(\"We reject the null hypothesis\")\n",
    "else:\n",
    "    print(\"We can't reject the null hypothesis\")"
   ]
  },
  {
   "cell_type": "markdown",
   "metadata": {},
   "source": [
    "#### Average user ratings for the Action and Sports genres are different <a class=\"anchor\" id=\"genreaverage\"></a>"
   ]
  },
  {
   "cell_type": "code",
   "execution_count": 61,
   "metadata": {},
   "outputs": [],
   "source": [
    "# Querying for the data to find the Action genre user score average\n",
    "action_user = games_data.query(\"genre in 'Action'\")"
   ]
  },
  {
   "cell_type": "code",
   "execution_count": 62,
   "metadata": {},
   "outputs": [],
   "source": [
    "# Querying for the data to find the Sport genre user average\n",
    "sport_user = games_data.query(\"genre in 'Sports'\")"
   ]
  },
  {
   "cell_type": "code",
   "execution_count": 63,
   "metadata": {},
   "outputs": [
    {
     "name": "stdout",
     "output_type": "stream",
     "text": [
      "p-value: 2.3722483899243593e-09\n",
      "We reject the null hypothesis\n"
     ]
    }
   ],
   "source": [
    "# Setting a critical statistical significance level\n",
    "alpha = .05 \n",
    "\n",
    "# Testing the hypothesis that the means of the two independent populations are equal\n",
    "results = st.ttest_ind(\n",
    "        action_user['user_score'], \n",
    "        sport_user['user_score'])\n",
    "\n",
    "print('p-value:', results.pvalue)\n",
    "\n",
    "# Comparing the p-value with the statistical significance level\n",
    "if (results.pvalue < alpha): \n",
    "    print(\"We reject the null hypothesis\")\n",
    "else:\n",
    "    print(\"We can't reject the null hypothesis\")"
   ]
  },
  {
   "cell_type": "code",
   "execution_count": 64,
   "metadata": {},
   "outputs": [
    {
     "data": {
      "text/plain": [
       "genre\n",
       "Action          6.815182\n",
       "Adventure       7.014000\n",
       "Fighting        7.049138\n",
       "Misc            6.612195\n",
       "Platform        6.820745\n",
       "Puzzle          7.016867\n",
       "Racing          6.584810\n",
       "Role-Playing    7.386765\n",
       "Shooter         6.752827\n",
       "Simulation      6.651707\n",
       "Sports          6.376998\n",
       "Strategy        6.847423\n",
       "Name: user_score, dtype: float64"
      ]
     },
     "execution_count": 64,
     "metadata": {},
     "output_type": "execute_result"
    }
   ],
   "source": [
    "games_data.groupby('genre')['user_score'].mean()"
   ]
  },
  {
   "cell_type": "markdown",
   "metadata": {},
   "source": [
    "Our statistical tests showed that no statistically significant difference exists between the ratings users gave towards games released with XBox One versus PC gaming platforms. This finding, in addition to our earlier observation of the weak correlation between global sales and user ratings, means that user ratings is not a clear or reliable indicator of the success of a game (based on sales and customer experience). Meanwhile, we saw that there is a statistically significant difference in user ratings when it comes to genres, and this means that user ratings are a better indicator of the succcess of a game when it comes to the genres of Action versus Sports."
   ]
  }
 ],
 "metadata": {
  "kernelspec": {
   "display_name": "Python 3",
   "language": "python",
   "name": "python3"
  },
  "language_info": {
   "codemirror_mode": {
    "name": "ipython",
    "version": 3
   },
   "file_extension": ".py",
   "mimetype": "text/x-python",
   "name": "python",
   "nbconvert_exporter": "python",
   "pygments_lexer": "ipython3",
   "version": "3.7.4"
  }
 },
 "nbformat": 4,
 "nbformat_minor": 2
}
