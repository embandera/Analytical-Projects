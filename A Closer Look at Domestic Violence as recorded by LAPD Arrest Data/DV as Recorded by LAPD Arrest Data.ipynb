{
 "cells": [
  {
   "cell_type": "markdown",
   "metadata": {},
   "source": [
    "## A Closer Look at Domestic Violence as recorded by LAPD Arrest Data"
   ]
  },
  {
   "cell_type": "markdown",
   "metadata": {},
   "source": [
    "#### Summary \n",
    "This exploratory data analysis takes a closer look at DV-related data elements that are recorded in LAPD Arrest Data (January 1, 2010 to August 31, 2020) specifically on arrests categorized as \"Against Family/Child\". These types of arrests are labeled as FCDV-related arrests in this report. It is important to note that other arrest categories (I.e., Rape) may also be considered DV-related arrests. This EDA is part of an effort towards creating public health resources and educational information for residents of the City of Los Angeles. \n",
    "\n",
    "The DV-related data elements that are studied here are drawn from a Los Angeles County publication ['Domestic Violence Data Sources'](http://publichealth.lacounty.gov/ivpp/pdf_reports/DV%20Report/LA%20County%20Domestic%20Violence%20Data%20Sources%208.25.10.pdf). These include: \n",
    "* Number of DV-related arrests\n",
    "* Type of offense, including murder, simple assault, sexual assault, and intimidation\n",
    "* Victim/offender relationships\n",
    "* Age, gender and race/ethnicity of victims and offenders\n",
    "* Type of injury sustained by the victim\n",
    "* Type of weapon\n",
    "* Location where the crime occurred\n",
    "* Number of victims and offenders involved in the incidents \n",
    "\n",
    "LAPD Arrest Data contains some of the elements above but not all. This EDA project will continue to look for data sources to merge towards building a larger dataset that may be insightful for understanding DV-related trends and patterns in the city. \n",
    "\n",
    "The datasets analyzed in this report comes from the Los Angeles Police Department (LAPD) and contain information on arrests in the city and details documented about the arrests. The datasets can be accessed through the Los Angeles Open Data [website](https://data.lacity.org/A-Safe-City/Arrest-Data-from-2020-to-Present/amvf-fr72). \n",
    "\n",
    "Update: An additional two datasets are introduced drawn from the FBI's [Crime Data Explorer (CDE)](https://crime-data-explorer.fr.cloud.gov/explorer/national/united-states/crime#about-the-data). CDE data is \"derived from summary (SRS)  glossary lookup and incident (NIBRS)  glossary lookup reports voluntarily submitted to the FBI.\n",
    "\n",
    "\n",
    "#### Data Highlights \n",
    "This report found several FCDV-related trends and patterns for the City of Los Angeles: \n",
    "* [FCVD Arrests in 2020](#fcdv2020)\n",
    "* [FCVD Arrests Between 2010 and 2020](#fcdv2010)\n",
    "* [Distribution of FCDV Arrests in 2019 and 2020](#dist201920)\n",
    "* [Yearly Change in FCDV Arrests between 2010 and 2019](#yc)\n",
    "* [Types of FCDV-related Charges](#charge)\n",
    "* [Sex Data](#sex)\n",
    "* [Neighborhood Data](#neighborhood)\n",
    "* [Descent Data](#descent)\n",
    "* [Age Data](#age)"
   ]
  },
  {
   "cell_type": "markdown",
   "metadata": {},
   "source": [
    "### Table of Contents\n",
    "* [Getting to Know the Dataset](#firstlook)\n",
    "* [Data Pre-Processing](#cleaning)\n",
    "* [Exploratory Data Analysis](#exploratory)\n"
   ]
  },
  {
   "cell_type": "markdown",
   "metadata": {},
   "source": [
    "## Getting to Know the Datasets  <a class=\"anchor\" id=\"firstlook\"></a>"
   ]
  },
  {
   "cell_type": "markdown",
   "metadata": {},
   "source": [
    "### Importing Libraries and Data <a class=\"anchor\" id=\"importdata\"></a>"
   ]
  },
  {
   "cell_type": "code",
   "execution_count": 1,
   "metadata": {},
   "outputs": [],
   "source": [
    "# Importing libraries\n",
    "import pandas as pd\n",
    "import numpy as np\n",
    "import matplotlib.pyplot as plt\n",
    "from scipy import stats as st\n",
    "import datetime"
   ]
  },
  {
   "cell_type": "code",
   "execution_count": 2,
   "metadata": {},
   "outputs": [],
   "source": [
    "# Importing data sources\n",
    "lapd_2020 = pd.read_csv('/Users/mitzibandera/DV/Arrest_Data_from_2020_to_Present.csv')"
   ]
  },
  {
   "cell_type": "code",
   "execution_count": 3,
   "metadata": {},
   "outputs": [
    {
     "name": "stderr",
     "output_type": "stream",
     "text": [
      "/Users/mitzibandera/opt/anaconda3/lib/python3.7/site-packages/IPython/core/interactiveshell.py:3058: DtypeWarning: Columns (21,23) have mixed types. Specify dtype option on import or set low_memory=False.\n",
      "  interactivity=interactivity, compiler=compiler, result=result)\n"
     ]
    }
   ],
   "source": [
    "# Importing data sources\n",
    "lapd_2010_to_2019 = pd.read_csv('/Users/mitzibandera/DV/Arrest_Data_from_2010_to_2019.csv')"
   ]
  },
  {
   "cell_type": "code",
   "execution_count": 4,
   "metadata": {},
   "outputs": [],
   "source": [
    "# Importing data sources\n",
    "cde_race_2019 = pd.read_csv('/Users/mitzibandera/DV/arrestee-race-2019.csv')"
   ]
  },
  {
   "cell_type": "code",
   "execution_count": 5,
   "metadata": {},
   "outputs": [],
   "source": [
    "# Stacking the two data sources\n",
    "lapd_data = pd.concat([lapd_2020,lapd_2010_to_2019], axis=0)"
   ]
  },
  {
   "cell_type": "markdown",
   "metadata": {},
   "source": [
    "### Inspecting the Data <a class=\"anchor\" id=\"inspectdata\"></a>"
   ]
  },
  {
   "cell_type": "markdown",
   "metadata": {},
   "source": [
    "By using different methods to view the dataset, we can begin to spot patterns, missing values and issues that need to be addressed. "
   ]
  },
  {
   "cell_type": "code",
   "execution_count": 6,
   "metadata": {},
   "outputs": [
    {
     "data": {
      "text/html": [
       "<div>\n",
       "<style scoped>\n",
       "    .dataframe tbody tr th:only-of-type {\n",
       "        vertical-align: middle;\n",
       "    }\n",
       "\n",
       "    .dataframe tbody tr th {\n",
       "        vertical-align: top;\n",
       "    }\n",
       "\n",
       "    .dataframe thead th {\n",
       "        text-align: right;\n",
       "    }\n",
       "</style>\n",
       "<table border=\"1\" class=\"dataframe\">\n",
       "  <thead>\n",
       "    <tr style=\"text-align: right;\">\n",
       "      <th></th>\n",
       "      <th>Report ID</th>\n",
       "      <th>Report Type</th>\n",
       "      <th>Arrest Date</th>\n",
       "      <th>Time</th>\n",
       "      <th>Area ID</th>\n",
       "      <th>Area Name</th>\n",
       "      <th>Reporting District</th>\n",
       "      <th>Age</th>\n",
       "      <th>Sex Code</th>\n",
       "      <th>Descent Code</th>\n",
       "      <th>...</th>\n",
       "      <th>Disposition Description</th>\n",
       "      <th>Address</th>\n",
       "      <th>Cross Street</th>\n",
       "      <th>LAT</th>\n",
       "      <th>LON</th>\n",
       "      <th>Location</th>\n",
       "      <th>Booking Date</th>\n",
       "      <th>Booking Time</th>\n",
       "      <th>Booking Location</th>\n",
       "      <th>Booking Location Code</th>\n",
       "    </tr>\n",
       "  </thead>\n",
       "  <tbody>\n",
       "    <tr>\n",
       "      <td>0</td>\n",
       "      <td>5999614</td>\n",
       "      <td>BOOKING</td>\n",
       "      <td>08/26/2020 12:00:00 AM</td>\n",
       "      <td>1505.0</td>\n",
       "      <td>14</td>\n",
       "      <td>Pacific</td>\n",
       "      <td>1494</td>\n",
       "      <td>34</td>\n",
       "      <td>M</td>\n",
       "      <td>B</td>\n",
       "      <td>...</td>\n",
       "      <td>NaN</td>\n",
       "      <td>400    WORLDWAY</td>\n",
       "      <td>NaN</td>\n",
       "      <td>33.9420</td>\n",
       "      <td>-118.4095</td>\n",
       "      <td>POINT (-118.4095 33.942)</td>\n",
       "      <td>08/26/2020 12:00:00 AM</td>\n",
       "      <td>1815.0</td>\n",
       "      <td>PACIFIC</td>\n",
       "      <td>4214.0</td>\n",
       "    </tr>\n",
       "    <tr>\n",
       "      <td>1</td>\n",
       "      <td>202111570</td>\n",
       "      <td>RFC</td>\n",
       "      <td>07/09/2020 12:00:00 AM</td>\n",
       "      <td>1830.0</td>\n",
       "      <td>21</td>\n",
       "      <td>Topanga</td>\n",
       "      <td>2125</td>\n",
       "      <td>29</td>\n",
       "      <td>M</td>\n",
       "      <td>H</td>\n",
       "      <td>...</td>\n",
       "      <td>MISDEMEANOR COMPLAINT FILED</td>\n",
       "      <td>21900    ELKWOOD                      ST</td>\n",
       "      <td>NaN</td>\n",
       "      <td>34.2129</td>\n",
       "      <td>-118.6031</td>\n",
       "      <td>POINT (-118.6031 34.2129)</td>\n",
       "      <td>NaN</td>\n",
       "      <td>NaN</td>\n",
       "      <td>NaN</td>\n",
       "      <td>NaN</td>\n",
       "    </tr>\n",
       "    <tr>\n",
       "      <td>2</td>\n",
       "      <td>202112432</td>\n",
       "      <td>RFC</td>\n",
       "      <td>07/29/2020 12:00:00 AM</td>\n",
       "      <td>1455.0</td>\n",
       "      <td>21</td>\n",
       "      <td>Topanga</td>\n",
       "      <td>2189</td>\n",
       "      <td>39</td>\n",
       "      <td>M</td>\n",
       "      <td>W</td>\n",
       "      <td>...</td>\n",
       "      <td>MISDEMEANOR COMPLAINT FILED</td>\n",
       "      <td>WINNETKA</td>\n",
       "      <td>VENTURA                      FY</td>\n",
       "      <td>34.1721</td>\n",
       "      <td>-118.5709</td>\n",
       "      <td>POINT (-118.5709 34.1721)</td>\n",
       "      <td>NaN</td>\n",
       "      <td>NaN</td>\n",
       "      <td>NaN</td>\n",
       "      <td>NaN</td>\n",
       "    </tr>\n",
       "    <tr>\n",
       "      <td>3</td>\n",
       "      <td>6005088</td>\n",
       "      <td>BOOKING</td>\n",
       "      <td>09/03/2020 12:00:00 AM</td>\n",
       "      <td>2030.0</td>\n",
       "      <td>3</td>\n",
       "      <td>Southwest</td>\n",
       "      <td>314</td>\n",
       "      <td>19</td>\n",
       "      <td>M</td>\n",
       "      <td>H</td>\n",
       "      <td>...</td>\n",
       "      <td>NaN</td>\n",
       "      <td>24TH</td>\n",
       "      <td>ARLINGTON</td>\n",
       "      <td>34.0349</td>\n",
       "      <td>-118.3177</td>\n",
       "      <td>POINT (-118.3177 34.0349)</td>\n",
       "      <td>09/03/2020 12:00:00 AM</td>\n",
       "      <td>2236.0</td>\n",
       "      <td>77TH ST</td>\n",
       "      <td>4212.0</td>\n",
       "    </tr>\n",
       "    <tr>\n",
       "      <td>4</td>\n",
       "      <td>201711929</td>\n",
       "      <td>RFC</td>\n",
       "      <td>07/23/2020 12:00:00 AM</td>\n",
       "      <td>1815.0</td>\n",
       "      <td>17</td>\n",
       "      <td>Devonshire</td>\n",
       "      <td>1752</td>\n",
       "      <td>39</td>\n",
       "      <td>M</td>\n",
       "      <td>H</td>\n",
       "      <td>...</td>\n",
       "      <td>MISDEMEANOR COMPLAINT FILED</td>\n",
       "      <td>DE SOTO</td>\n",
       "      <td>LASSEN</td>\n",
       "      <td>34.2500</td>\n",
       "      <td>-118.5886</td>\n",
       "      <td>POINT (-118.5886 34.25)</td>\n",
       "      <td>NaN</td>\n",
       "      <td>NaN</td>\n",
       "      <td>NaN</td>\n",
       "      <td>NaN</td>\n",
       "    </tr>\n",
       "  </tbody>\n",
       "</table>\n",
       "<p>5 rows × 25 columns</p>\n",
       "</div>"
      ],
      "text/plain": [
       "   Report ID Report Type             Arrest Date    Time  Area ID   Area Name  \\\n",
       "0    5999614     BOOKING  08/26/2020 12:00:00 AM  1505.0       14     Pacific   \n",
       "1  202111570         RFC  07/09/2020 12:00:00 AM  1830.0       21     Topanga   \n",
       "2  202112432         RFC  07/29/2020 12:00:00 AM  1455.0       21     Topanga   \n",
       "3    6005088     BOOKING  09/03/2020 12:00:00 AM  2030.0        3   Southwest   \n",
       "4  201711929         RFC  07/23/2020 12:00:00 AM  1815.0       17  Devonshire   \n",
       "\n",
       "   Reporting District  Age Sex Code Descent Code  ...  \\\n",
       "0                1494   34        M            B  ...   \n",
       "1                2125   29        M            H  ...   \n",
       "2                2189   39        M            W  ...   \n",
       "3                 314   19        M            H  ...   \n",
       "4                1752   39        M            H  ...   \n",
       "\n",
       "       Disposition Description                                   Address  \\\n",
       "0                          NaN                           400    WORLDWAY   \n",
       "1  MISDEMEANOR COMPLAINT FILED  21900    ELKWOOD                      ST   \n",
       "2  MISDEMEANOR COMPLAINT FILED                                  WINNETKA   \n",
       "3                          NaN                                      24TH   \n",
       "4  MISDEMEANOR COMPLAINT FILED                                   DE SOTO   \n",
       "\n",
       "                      Cross Street      LAT       LON  \\\n",
       "0                              NaN  33.9420 -118.4095   \n",
       "1                              NaN  34.2129 -118.6031   \n",
       "2  VENTURA                      FY  34.1721 -118.5709   \n",
       "3                        ARLINGTON  34.0349 -118.3177   \n",
       "4                           LASSEN  34.2500 -118.5886   \n",
       "\n",
       "                    Location            Booking Date Booking Time  \\\n",
       "0   POINT (-118.4095 33.942)  08/26/2020 12:00:00 AM       1815.0   \n",
       "1  POINT (-118.6031 34.2129)                     NaN          NaN   \n",
       "2  POINT (-118.5709 34.1721)                     NaN          NaN   \n",
       "3  POINT (-118.3177 34.0349)  09/03/2020 12:00:00 AM       2236.0   \n",
       "4    POINT (-118.5886 34.25)                     NaN          NaN   \n",
       "\n",
       "   Booking Location  Booking Location Code  \n",
       "0           PACIFIC                 4214.0  \n",
       "1               NaN                    NaN  \n",
       "2               NaN                    NaN  \n",
       "3           77TH ST                 4212.0  \n",
       "4               NaN                    NaN  \n",
       "\n",
       "[5 rows x 25 columns]"
      ]
     },
     "execution_count": 6,
     "metadata": {},
     "output_type": "execute_result"
    }
   ],
   "source": [
    "# Inspecting arrest data \n",
    "lapd_data.head()"
   ]
  },
  {
   "cell_type": "code",
   "execution_count": 7,
   "metadata": {},
   "outputs": [
    {
     "name": "stdout",
     "output_type": "stream",
     "text": [
      "<class 'pandas.core.frame.DataFrame'>\n",
      "Int64Index: 1365547 entries, 0 to 1317756\n",
      "Data columns (total 25 columns):\n",
      "Report ID                   1365547 non-null int64\n",
      "Report Type                 1365547 non-null object\n",
      "Arrest Date                 1365547 non-null object\n",
      "Time                        1365350 non-null float64\n",
      "Area ID                     1365547 non-null int64\n",
      "Area Name                   1365547 non-null object\n",
      "Reporting District          1365547 non-null int64\n",
      "Age                         1365547 non-null int64\n",
      "Sex Code                    1365547 non-null object\n",
      "Descent Code                1365547 non-null object\n",
      "Charge Group Code           1273775 non-null object\n",
      "Charge Group Description    1272403 non-null object\n",
      "Arrest Type Code            1365546 non-null object\n",
      "Charge                      1365547 non-null object\n",
      "Charge Description          1275626 non-null object\n",
      "Disposition Description     1254082 non-null object\n",
      "Address                     1365547 non-null object\n",
      "Cross Street                775498 non-null object\n",
      "LAT                         1365547 non-null float64\n",
      "LON                         1365547 non-null float64\n",
      "Location                    1365547 non-null object\n",
      "Booking Date                941416 non-null object\n",
      "Booking Time                941414 non-null float64\n",
      "Booking Location            941172 non-null object\n",
      "Booking Location Code       941379 non-null float64\n",
      "dtypes: float64(5), int64(4), object(16)\n",
      "memory usage: 270.9+ MB\n"
     ]
    }
   ],
   "source": [
    "# Inspecting arrest data \n",
    "lapd_data.info()"
   ]
  },
  {
   "cell_type": "code",
   "execution_count": 8,
   "metadata": {},
   "outputs": [
    {
     "data": {
      "text/plain": [
       "Miscellaneous Other Violations    251760\n",
       "Narcotic Drug Laws                167386\n",
       "Driving Under Influence           125560\n",
       "Drunkeness                        116982\n",
       "Aggravated Assault                 91827\n",
       "Larceny                            72531\n",
       "Other Assaults                     67913\n",
       "Moving Traffic Violations          54783\n",
       "Liquor Laws                        52923\n",
       "Prostitution/Allied                41738\n",
       "Disorderly Conduct                 37362\n",
       "Weapon (carry/poss)                33220\n",
       "Robbery                            28360\n",
       "Vehicle Theft                      27400\n",
       "Burglary                           25932\n",
       "Sex (except rape/prst)             13883\n",
       "Pre-Delinquency                    11910\n",
       "Fraud/Embezzlement                 10009\n",
       "Against Family/Child                8076\n",
       "Forgery/Counterfeit                 7117\n",
       "Non-Criminal Detention              7017\n",
       "Receive Stolen Property             6937\n",
       "Rape                                3128\n",
       "Disturbing the Peace                3000\n",
       "Gambling                            2815\n",
       "Homicide                            2576\n",
       "Federal Offenses                     258\n",
       "Name: Charge Group Description, dtype: int64"
      ]
     },
     "execution_count": 8,
     "metadata": {},
     "output_type": "execute_result"
    }
   ],
   "source": [
    "# Inspecting charges in arrest data\n",
    "lapd_data['Charge Group Description'].value_counts()"
   ]
  },
  {
   "cell_type": "markdown",
   "metadata": {},
   "source": [
    "Our initial inspection of the lapd_data dataset shows that during the first nine months of 2020, more than 600 arrests were made that were labeled as \"Against Family/Child.\" In the time span of 2010 to 2019 period, 8076 arrests were made in this category.  "
   ]
  },
  {
   "cell_type": "code",
   "execution_count": 9,
   "metadata": {},
   "outputs": [
    {
     "data": {
      "text/html": [
       "<div>\n",
       "<style scoped>\n",
       "    .dataframe tbody tr th:only-of-type {\n",
       "        vertical-align: middle;\n",
       "    }\n",
       "\n",
       "    .dataframe tbody tr th {\n",
       "        vertical-align: top;\n",
       "    }\n",
       "\n",
       "    .dataframe thead th {\n",
       "        text-align: right;\n",
       "    }\n",
       "</style>\n",
       "<table border=\"1\" class=\"dataframe\">\n",
       "  <thead>\n",
       "    <tr style=\"text-align: right;\">\n",
       "      <th></th>\n",
       "      <th>Key</th>\n",
       "      <th>Value</th>\n",
       "    </tr>\n",
       "  </thead>\n",
       "  <tbody>\n",
       "    <tr>\n",
       "      <td>0</td>\n",
       "      <td>Asian</td>\n",
       "      <td>515</td>\n",
       "    </tr>\n",
       "    <tr>\n",
       "      <td>1</td>\n",
       "      <td>Native Hawaiian</td>\n",
       "      <td>80</td>\n",
       "    </tr>\n",
       "    <tr>\n",
       "      <td>2</td>\n",
       "      <td>Black or African American</td>\n",
       "      <td>18477</td>\n",
       "    </tr>\n",
       "    <tr>\n",
       "      <td>3</td>\n",
       "      <td>American Indian or Alaska Native</td>\n",
       "      <td>2846</td>\n",
       "    </tr>\n",
       "    <tr>\n",
       "      <td>4</td>\n",
       "      <td>White</td>\n",
       "      <td>40835</td>\n",
       "    </tr>\n",
       "    <tr>\n",
       "      <td>5</td>\n",
       "      <td>Unknown</td>\n",
       "      <td>439</td>\n",
       "    </tr>\n",
       "  </tbody>\n",
       "</table>\n",
       "</div>"
      ],
      "text/plain": [
       "                                Key  Value\n",
       "0                             Asian    515\n",
       "1                   Native Hawaiian     80\n",
       "2         Black or African American  18477\n",
       "3  American Indian or Alaska Native   2846\n",
       "4                             White  40835\n",
       "5                           Unknown    439"
      ]
     },
     "execution_count": 9,
     "metadata": {},
     "output_type": "execute_result"
    }
   ],
   "source": [
    "# Inspecting data\n",
    "cde_race_2019"
   ]
  },
  {
   "cell_type": "markdown",
   "metadata": {},
   "source": [
    "## Data Pre-processing<a class=\"anchor\" id=\"cleaning\"></a>"
   ]
  },
  {
   "cell_type": "markdown",
   "metadata": {},
   "source": [
    "First, we'll replace column names."
   ]
  },
  {
   "cell_type": "code",
   "execution_count": 10,
   "metadata": {},
   "outputs": [],
   "source": [
    "# Replacing the column names (making them lowercase)\n",
    "lapd_data = lapd_data.rename(columns={'Report ID': 'id', 'Report Type': 'report_type', 'Arrest Date': 'arrest_date', \n",
    "                                        'Time': 'time', 'Area ID': 'area_id', 'Area Name': 'area',\n",
    "                                       'Reporting District': 'reporting_district', 'Age': 'age', 'Sex Code': 'sex', \n",
    "                                       'Descent Code':'descent', 'Charge Group Code':'charge_code', 'Charge Group Description':'charge_group', \n",
    "                                        'Arrest Type Code': 'arrest_code', 'Charge': 'charge', 'Charge Description': 'charge_description',\n",
    "                                       'Disposition Description': 'dispo_desc', 'Address': 'address', 'Cross Street': 'cross_street', 'LAT': 'latitude', \n",
    "                                       'LON':'longitude', 'Location':'location', 'Booking Date': 'booking_date', 'Booking Time': 'booking_time', \n",
    "                                        'Booking Location': 'booking_location', 'Booking Location Code':'booking_location_code'})"
   ]
  },
  {
   "cell_type": "markdown",
   "metadata": {},
   "source": [
    "Earlier, we noticed that the arrest date information had different formats in both of the datasets. To make the values all have the same format, we will truncate the date to only show year, month and day and we'll also write code to format the datetime data type this way. "
   ]
  },
  {
   "cell_type": "code",
   "execution_count": 11,
   "metadata": {},
   "outputs": [],
   "source": [
    "# Truncate date \n",
    "lapd_data['arrest_date'] = pd.to_datetime(lapd_data.arrest_date).dt.date"
   ]
  },
  {
   "cell_type": "code",
   "execution_count": 12,
   "metadata": {},
   "outputs": [],
   "source": [
    "# Format date\n",
    "lapd_data['arrest_date'] = pd.to_datetime(lapd_data['arrest_date'], format = '%Y-%m-%d')"
   ]
  },
  {
   "cell_type": "markdown",
   "metadata": {},
   "source": [
    "Disaggregating by month and year will help us to mine this data for meaningful patterns. In the code below, we extract the month and year an arrest was made and add this value to new columns called 'month' and 'year'. "
   ]
  },
  {
   "cell_type": "code",
   "execution_count": 13,
   "metadata": {},
   "outputs": [],
   "source": [
    "import warnings\n",
    "warnings.filterwarnings(\"ignore\")\n",
    "# Extracting month and creating new column\n",
    "lapd_data['month'] = pd.DatetimeIndex(lapd_data['arrest_date']).month"
   ]
  },
  {
   "cell_type": "code",
   "execution_count": 14,
   "metadata": {},
   "outputs": [],
   "source": [
    "# Extracting year and creating new column\n",
    "lapd_data['year'] = pd.DatetimeIndex(lapd_data['arrest_date']).year"
   ]
  },
  {
   "cell_type": "markdown",
   "metadata": {},
   "source": [
    "We'll take a moment to confirm the time span that our merged dataset represents. "
   ]
  },
  {
   "cell_type": "code",
   "execution_count": 15,
   "metadata": {},
   "outputs": [
    {
     "data": {
      "text/plain": [
       "Timestamp('2010-01-01 00:00:00')"
      ]
     },
     "execution_count": 15,
     "metadata": {},
     "output_type": "execute_result"
    }
   ],
   "source": [
    "# Date of first arrest recorded in arrest data\n",
    "lapd_data['arrest_date'].min()"
   ]
  },
  {
   "cell_type": "code",
   "execution_count": 16,
   "metadata": {},
   "outputs": [
    {
     "data": {
      "text/plain": [
       "Timestamp('2020-09-12 00:00:00')"
      ]
     },
     "execution_count": 16,
     "metadata": {},
     "output_type": "execute_result"
    }
   ],
   "source": [
    "# Date of last arrest recorded in arrest data\n",
    "lapd_data['arrest_date'].max()"
   ]
  },
  {
   "cell_type": "markdown",
   "metadata": {},
   "source": [
    "At this stage, the lapd_data DataFrame contains information about all arrests made, not just those DV-related. We'll create a specific DataFrame that analyzes arrests categorized as \"Against Family/Child\". This new DataFrame is called dv_data and spans from 2010 to 2020. "
   ]
  },
  {
   "cell_type": "code",
   "execution_count": 17,
   "metadata": {},
   "outputs": [],
   "source": [
    "# Filtering dataset and creating a new dataset called data to only show specific arrests\n",
    "dv_data = lapd_data[lapd_data['charge_group'] == 'Against Family/Child'] "
   ]
  },
  {
   "cell_type": "markdown",
   "metadata": {},
   "source": [
    "Using the isnull() method we can see that there are several values missing from this dataset. We may come back to replacing missing values depending on the direction of our EDA, however for now we can observe and take note of the columns below. "
   ]
  },
  {
   "cell_type": "code",
   "execution_count": 18,
   "metadata": {},
   "outputs": [
    {
     "name": "stdout",
     "output_type": "stream",
     "text": [
      "Index(['dispo_desc', 'cross_street', 'booking_date', 'booking_time',\n",
      "       'booking_location', 'booking_location_code'],\n",
      "      dtype='object')\n"
     ]
    }
   ],
   "source": [
    "# Looking for missing values using isnull()\n",
    "print(dv_data.columns[dv_data.isnull().any()])"
   ]
  },
  {
   "cell_type": "markdown",
   "metadata": {},
   "source": [
    "We'll also create another new dataset for 2020 and discard data for the month of September since this month is not fully accounted for (the dataset runs only to September 12)."
   ]
  },
  {
   "cell_type": "code",
   "execution_count": 19,
   "metadata": {},
   "outputs": [],
   "source": [
    "# Filtering dataset\n",
    "dv_data_2020 = dv_data[dv_data['year'] == 2020] "
   ]
  },
  {
   "cell_type": "code",
   "execution_count": 20,
   "metadata": {},
   "outputs": [],
   "source": [
    "dv_data_2020 = dv_data_2020[dv_data_2020['month'] != 9] "
   ]
  },
  {
   "cell_type": "code",
   "execution_count": 21,
   "metadata": {},
   "outputs": [
    {
     "name": "stdout",
     "output_type": "stream",
     "text": [
      "Index(['dispo_desc', 'cross_street', 'booking_date', 'booking_time',\n",
      "       'booking_location', 'booking_location_code'],\n",
      "      dtype='object')\n"
     ]
    }
   ],
   "source": [
    "# Looking for missing values using isnull()\n",
    "print(dv_data_2020.columns[dv_data_2020.isnull().any()])"
   ]
  },
  {
   "cell_type": "markdown",
   "metadata": {},
   "source": [
    "## Exploratory Data Analysis  <a class=\"anchor\" id=\"exploratory\"></a>"
   ]
  },
  {
   "cell_type": "markdown",
   "metadata": {},
   "source": [
    "#### FCVD Arrests in 2020  <a class=\"anchor\" id=\"fcdv2020\"></a>"
   ]
  },
  {
   "cell_type": "markdown",
   "metadata": {},
   "source": [
    "There were 603 FCDV arrests made in the first 8 months of 2020. "
   ]
  },
  {
   "cell_type": "code",
   "execution_count": 38,
   "metadata": {},
   "outputs": [
    {
     "data": {
      "text/plain": [
       "603"
      ]
     },
     "execution_count": 38,
     "metadata": {},
     "output_type": "execute_result"
    }
   ],
   "source": [
    "len(dv_data_2020)"
   ]
  },
  {
   "cell_type": "markdown",
   "metadata": {},
   "source": [
    "#### FCVD Arrests Between 2010 and 2020  <a class=\"anchor\" id=\"fcdv2010\"></a>"
   ]
  },
  {
   "cell_type": "markdown",
   "metadata": {},
   "source": [
    "FCDV arrests were .6% of all arrest made between 2010 and 2020. "
   ]
  },
  {
   "cell_type": "code",
   "execution_count": 39,
   "metadata": {},
   "outputs": [
    {
     "data": {
      "text/plain": [
       "0.5914113538384251"
      ]
     },
     "execution_count": 39,
     "metadata": {},
     "output_type": "execute_result"
    }
   ],
   "source": [
    "# Calculating proportion\n",
    "len(dv_data)/len(lapd_data) * 100"
   ]
  },
  {
   "cell_type": "markdown",
   "metadata": {},
   "source": [
    "#### Distribution of FCDV Arrests in 2019 and 2020  <a class=\"anchor\" id=\"dist201920\"></a>"
   ]
  },
  {
   "cell_type": "markdown",
   "metadata": {},
   "source": [
    "Our pivot table below shows us that the number of FCDV arrests were relatively consistent in 2020. How similar or different are these numbers for other years? We'll find out in the next few steps. "
   ]
  },
  {
   "cell_type": "code",
   "execution_count": 24,
   "metadata": {},
   "outputs": [
    {
     "data": {
      "image/png": "[encoded data removed]",
      "text/plain": [
       "<Figure size 432x288 with 1 Axes>"
      ]
     },
     "metadata": {
      "needs_background": "light"
     },
     "output_type": "display_data"
    }
   ],
   "source": [
    "# Pivot table \n",
    "dv_data_2020_pivot = pd.pivot_table(dv_data_2020, index = ['month'],\n",
    "                                values = ['id'], aggfunc = [len])\n",
    "# Bar chart\n",
    "x = ('January', 'February', 'March', 'April', 'May', 'June', 'July', 'August')\n",
    "y = dv_data_2020_pivot[('len', 'id')]\n",
    "\n",
    "plt.bar(x, y)\n",
    "\n",
    "plt.xticks(x, rotation='vertical')\n",
    "\n",
    "for a,b in zip(x, y):\n",
    "    plt.text(a, b, str(b))\n",
    "plt.show()"
   ]
  },
  {
   "cell_type": "code",
   "execution_count": 25,
   "metadata": {},
   "outputs": [
    {
     "name": "stdout",
     "output_type": "stream",
     "text": [
      "There was an average of 75 FCDV arrests made in the first eight months of 2020.\n"
     ]
    }
   ],
   "source": [
    "print('There was an average of', round(dv_data_2020_pivot[('len', 'id')].mean()), 'FCDV arrests made in the first eight months of 2020.')\n"
   ]
  },
  {
   "cell_type": "markdown",
   "metadata": {},
   "source": [
    "We'll also take a closer look below at the distribution of FCDV arrests in 2019. "
   ]
  },
  {
   "cell_type": "code",
   "execution_count": 26,
   "metadata": {},
   "outputs": [
    {
     "data": {
      "image/png": "[encoded data removed]",
      "text/plain": [
       "<Figure size 432x288 with 1 Axes>"
      ]
     },
     "metadata": {
      "needs_background": "light"
     },
     "output_type": "display_data"
    }
   ],
   "source": [
    "# Pivot table \n",
    "dv_data_pivot = pd.pivot_table(dv_data, index = ['year','month'],\n",
    "                                values = ['id'], aggfunc = [len])\n",
    "# Querying for 2019 \n",
    "dv_2019 = dv_data_pivot.query('year in \"2019\"')\n",
    "# # Bar chart\n",
    "x = ('January', 'February', 'March', 'April', 'May', 'June', 'July', 'August', 'September', 'Octobr', 'November', 'December')\n",
    "y = dv_2019[('len', 'id')]\n",
    "\n",
    "plt.bar(x, y)\n",
    "\n",
    "plt.xticks(x, rotation='vertical')\n",
    "\n",
    "for a,b in zip(x, y):\n",
    "    plt.text(a, b, str(b))\n",
    "plt.show()"
   ]
  },
  {
   "cell_type": "code",
   "execution_count": 27,
   "metadata": {},
   "outputs": [
    {
     "name": "stdout",
     "output_type": "stream",
     "text": [
      "There was an average of 80 FCDV arrests made per month in 2019.\n"
     ]
    }
   ],
   "source": [
    "print('There was an average of', round(dv_2019[('len', 'id')].mean()), 'FCDV arrests made per month in 2019.')\n"
   ]
  },
  {
   "cell_type": "markdown",
   "metadata": {},
   "source": [
    "#### Yearly Change in FCDV Arrests between 2010 and 2019  <a class=\"anchor\" id=\"yc\"></a>"
   ]
  },
  {
   "cell_type": "markdown",
   "metadata": {},
   "source": [
    "Next, we'll step back a bit and look at the distribution of FCDV arrests from 2010 to 2019. By visualizing the number of yearly FCDV arrests on a bart chart, we see an increase in numbers from 2010 to 2019. "
   ]
  },
  {
   "cell_type": "code",
   "execution_count": 28,
   "metadata": {},
   "outputs": [
    {
     "data": {
      "image/png": "[encoded data removed]",
      "text/plain": [
       "<Figure size 432x288 with 1 Axes>"
      ]
     },
     "metadata": {
      "needs_background": "light"
     },
     "output_type": "display_data"
    }
   ],
   "source": [
    "# Pivot table \n",
    "dv_data_pivot_year = pd.pivot_table(dv_data, index = ['year'],\n",
    "                                values = ['id'], aggfunc = [len])\n",
    "# Filtering out the year 2020 since it is not complete at this time\n",
    "dv_data_pivot_year = dv_data_pivot_year[dv_data_pivot_year[('len', 'id')] != 621] \n",
    "# Bar chart\n",
    "x = ('2010', '2011', '2012', '2013', '2014', '2015', '2016', '2017', '2018', '2019')\n",
    "y = dv_data_pivot_year[('len', 'id')]\n",
    "\n",
    "plt.bar(x, y)\n",
    "\n",
    "plt.xticks(x, rotation='vertical')\n",
    "\n",
    "for a,b in zip(x, y):\n",
    "    plt.text(a, b, str(b))\n",
    "plt.show()"
   ]
  },
  {
   "cell_type": "markdown",
   "metadata": {},
   "source": [
    "The bar chart below shows the yearly growth in FCDV arrests as percentages. We see that the number of FCDV arrests had a significant increase from the year 2013 to 2014. "
   ]
  },
  {
   "cell_type": "code",
   "execution_count": 29,
   "metadata": {},
   "outputs": [
    {
     "name": "stderr",
     "output_type": "stream",
     "text": [
      "posx and posy should be finite values\n",
      "posx and posy should be finite values\n"
     ]
    },
    {
     "data": {
      "image/png": "[encoded data removed]",
      "text/plain": [
       "<Figure size 432x288 with 1 Axes>"
      ]
     },
     "metadata": {
      "needs_background": "light"
     },
     "output_type": "display_data"
    }
   ],
   "source": [
    "# Calculating yearly change as a percentage \n",
    "dv_data_pivot_year[['YC']]=round((dv_data_pivot_year[[('len', 'id')]].pct_change())*100)\n",
    "# Bar chart\n",
    "x = ('2010', '2011', '2012', '2013', '2014', '2015', '2016', '2017', '2018', '2019')\n",
    "y = dv_data_pivot_year[('YC')]\n",
    "\n",
    "plt.bar(x, y)\n",
    "\n",
    "plt.xticks(x, rotation='vertical')\n",
    "\n",
    "for a,b in zip(x, y):\n",
    "    plt.text(a, b, str(b))\n",
    "plt.show()"
   ]
  },
  {
   "cell_type": "markdown",
   "metadata": {},
   "source": [
    "#### Types of FCDV-related Charges  <a class=\"anchor\" id=\"charge\"></a>"
   ]
  },
  {
   "cell_type": "markdown",
   "metadata": {},
   "source": [
    "Using the value_counts() method, we can take an even closer look at the types of charges related to the arrests categorized as \"Against Family/Child\". We see that the overwhelming charges are described as \"Disobey Domestic Relations Court Order\", this observation is true for the year 2020 and also the dataset spanning 2010 to 2019. "
   ]
  },
  {
   "cell_type": "code",
   "execution_count": 30,
   "metadata": {},
   "outputs": [
    {
     "data": {
      "text/html": [
       "<div>\n",
       "<style scoped>\n",
       "    .dataframe tbody tr th:only-of-type {\n",
       "        vertical-align: middle;\n",
       "    }\n",
       "\n",
       "    .dataframe tbody tr th {\n",
       "        vertical-align: top;\n",
       "    }\n",
       "\n",
       "    .dataframe thead th {\n",
       "        text-align: right;\n",
       "    }\n",
       "</style>\n",
       "<table border=\"1\" class=\"dataframe\">\n",
       "  <thead>\n",
       "    <tr style=\"text-align: right;\">\n",
       "      <th></th>\n",
       "      <th>count</th>\n",
       "    </tr>\n",
       "    <tr>\n",
       "      <th>charge_description</th>\n",
       "      <th></th>\n",
       "    </tr>\n",
       "  </thead>\n",
       "  <tbody>\n",
       "    <tr>\n",
       "      <td>DISOBEY DOMESTIC RELATIONS COURT ORDER</td>\n",
       "      <td>7582</td>\n",
       "    </tr>\n",
       "    <tr>\n",
       "      <td>ATTEMPT WILLFUL CRUELTY TO CHILD</td>\n",
       "      <td>283</td>\n",
       "    </tr>\n",
       "    <tr>\n",
       "      <td>CHILD STEALING</td>\n",
       "      <td>88</td>\n",
       "    </tr>\n",
       "    <tr>\n",
       "      <td>FAILURE TO PROVIDE FOR MINOR CHILD</td>\n",
       "      <td>22</td>\n",
       "    </tr>\n",
       "    <tr>\n",
       "      <td>HARMFUL MATTER SENT: SEDUCTION OF MINOR</td>\n",
       "      <td>20</td>\n",
       "    </tr>\n",
       "    <tr>\n",
       "      <td>DEPRIVE CUSTODY/VISIT IN VIOL OF CRT ORD</td>\n",
       "      <td>19</td>\n",
       "    </tr>\n",
       "    <tr>\n",
       "      <td>VIOLATION OF CUSTODY DECREE</td>\n",
       "      <td>19</td>\n",
       "    </tr>\n",
       "    <tr>\n",
       "      <td>VIOL COURT ORD TO PREV DOMESTIC VIOL W/PR</td>\n",
       "      <td>18</td>\n",
       "    </tr>\n",
       "    <tr>\n",
       "      <td>FAILURE TO PROVIDE FOR AFTER AJUDICATION</td>\n",
       "      <td>7</td>\n",
       "    </tr>\n",
       "    <tr>\n",
       "      <td>DISTRIBUTE HARMFUL MATTER TO MINOR ON INT</td>\n",
       "      <td>6</td>\n",
       "    </tr>\n",
       "    <tr>\n",
       "      <td>DESERT CHILD &lt; 14 YRS W/INTENT TO ABANDON</td>\n",
       "      <td>3</td>\n",
       "    </tr>\n",
       "    <tr>\n",
       "      <td>FAIL TO OBEY RESTRAINING ORDER</td>\n",
       "      <td>3</td>\n",
       "    </tr>\n",
       "    <tr>\n",
       "      <td>ABANDON/NON-SUPPORT CHILD UNDER 14 YRS</td>\n",
       "      <td>2</td>\n",
       "    </tr>\n",
       "    <tr>\n",
       "      <td>REMOVE/CONCEAL CHILD SUBJECT TO ADOPTION</td>\n",
       "      <td>2</td>\n",
       "    </tr>\n",
       "    <tr>\n",
       "      <td>WILLFUL CRUELTY TO CHILD</td>\n",
       "      <td>2</td>\n",
       "    </tr>\n",
       "  </tbody>\n",
       "</table>\n",
       "</div>"
      ],
      "text/plain": [
       "                                           count\n",
       "charge_description                              \n",
       "DISOBEY DOMESTIC RELATIONS COURT ORDER      7582\n",
       "ATTEMPT WILLFUL CRUELTY TO CHILD             283\n",
       "CHILD STEALING                                88\n",
       "FAILURE TO PROVIDE FOR MINOR CHILD            22\n",
       "HARMFUL MATTER SENT: SEDUCTION OF MINOR       20\n",
       "DEPRIVE CUSTODY/VISIT IN VIOL OF CRT ORD      19\n",
       "VIOLATION OF CUSTODY DECREE                   19\n",
       "VIOL COURT ORD TO PREV DOMESTIC VIOL W/PR     18\n",
       "FAILURE TO PROVIDE FOR AFTER AJUDICATION       7\n",
       "DISTRIBUTE HARMFUL MATTER TO MINOR ON INT      6\n",
       "DESERT CHILD < 14 YRS W/INTENT TO ABANDON      3\n",
       "FAIL TO OBEY RESTRAINING ORDER                 3\n",
       "ABANDON/NON-SUPPORT CHILD UNDER 14 YRS         2\n",
       "REMOVE/CONCEAL CHILD SUBJECT TO ADOPTION       2\n",
       "WILLFUL CRUELTY TO CHILD                       2"
      ]
     },
     "execution_count": 30,
     "metadata": {},
     "output_type": "execute_result"
    }
   ],
   "source": [
    "dv_data.groupby('charge_description')['charge_description'].agg(['count']).sort_values(by = 'count', ascending = False)\n"
   ]
  },
  {
   "cell_type": "code",
   "execution_count": 31,
   "metadata": {},
   "outputs": [
    {
     "data": {
      "text/html": [
       "<div>\n",
       "<style scoped>\n",
       "    .dataframe tbody tr th:only-of-type {\n",
       "        vertical-align: middle;\n",
       "    }\n",
       "\n",
       "    .dataframe tbody tr th {\n",
       "        vertical-align: top;\n",
       "    }\n",
       "\n",
       "    .dataframe thead th {\n",
       "        text-align: right;\n",
       "    }\n",
       "</style>\n",
       "<table border=\"1\" class=\"dataframe\">\n",
       "  <thead>\n",
       "    <tr style=\"text-align: right;\">\n",
       "      <th></th>\n",
       "      <th>count</th>\n",
       "    </tr>\n",
       "    <tr>\n",
       "      <th>charge_description</th>\n",
       "      <th></th>\n",
       "    </tr>\n",
       "  </thead>\n",
       "  <tbody>\n",
       "    <tr>\n",
       "      <td>DISOBEY DOMESTIC RELATIONS COURT ORDER</td>\n",
       "      <td>586</td>\n",
       "    </tr>\n",
       "    <tr>\n",
       "      <td>ATTEMPT WILLFUL CRUELTY TO CHILD</td>\n",
       "      <td>8</td>\n",
       "    </tr>\n",
       "    <tr>\n",
       "      <td>CHILD STEALING</td>\n",
       "      <td>4</td>\n",
       "    </tr>\n",
       "    <tr>\n",
       "      <td>HARMFUL MATTER SENT: SEDUCTION OF MINOR</td>\n",
       "      <td>3</td>\n",
       "    </tr>\n",
       "    <tr>\n",
       "      <td>FAILURE TO PROVIDE FOR MINOR CHILD</td>\n",
       "      <td>1</td>\n",
       "    </tr>\n",
       "    <tr>\n",
       "      <td>VIOLATION OF CUSTODY DECREE</td>\n",
       "      <td>1</td>\n",
       "    </tr>\n",
       "  </tbody>\n",
       "</table>\n",
       "</div>"
      ],
      "text/plain": [
       "                                         count\n",
       "charge_description                            \n",
       "DISOBEY DOMESTIC RELATIONS COURT ORDER     586\n",
       "ATTEMPT WILLFUL CRUELTY TO CHILD             8\n",
       "CHILD STEALING                               4\n",
       "HARMFUL MATTER SENT: SEDUCTION OF MINOR      3\n",
       "FAILURE TO PROVIDE FOR MINOR CHILD           1\n",
       "VIOLATION OF CUSTODY DECREE                  1"
      ]
     },
     "execution_count": 31,
     "metadata": {},
     "output_type": "execute_result"
    }
   ],
   "source": [
    "dv_data_2020.groupby('charge_description')['charge_description'].agg(['count']).sort_values(by = 'count', ascending = False)\n"
   ]
  },
  {
   "cell_type": "markdown",
   "metadata": {},
   "source": [
    "#### Sex Data <a class=\"anchor\" id=\"sex\"></a>"
   ]
  },
  {
   "cell_type": "markdown",
   "metadata": {},
   "source": [
    "Males account for 82% of FCDV arrests between 2010 and 2020. "
   ]
  },
  {
   "cell_type": "code",
   "execution_count": 32,
   "metadata": {},
   "outputs": [
    {
     "data": {
      "text/plain": [
       "M    6602\n",
       "F    1474\n",
       "Name: sex, dtype: int64"
      ]
     },
     "execution_count": 32,
     "metadata": {},
     "output_type": "execute_result"
    }
   ],
   "source": [
    "dv_data['sex'].value_counts()"
   ]
  },
  {
   "cell_type": "code",
   "execution_count": 33,
   "metadata": {},
   "outputs": [
    {
     "name": "stdout",
     "output_type": "stream",
     "text": [
      "82 % Males\n"
     ]
    }
   ],
   "source": [
    "print(round((len(dv_data.query('sex in \"M\"')) / \n",
    "       (len(dv_data.query('sex in \"M\"')) + \n",
    "        len(dv_data.query('sex in \"F\"'))))*100), '% Males')"
   ]
  },
  {
   "cell_type": "markdown",
   "metadata": {},
   "source": [
    "#### Neighborhood Data<a class=\"anchor\" id=\"neighborhood\"></a>"
   ]
  },
  {
   "cell_type": "markdown",
   "metadata": {},
   "source": [
    "The area 77th Street has the highest number of recorded FCDV arrests between 2010 and 2020. Specifically just in the year 2020, the Newton area has the highest number of recorded FCDV arrests. "
   ]
  },
  {
   "cell_type": "code",
   "execution_count": 34,
   "metadata": {},
   "outputs": [
    {
     "data": {
      "text/plain": [
       "77th Street    724\n",
       "Hollenbeck     595\n",
       "Southwest      517\n",
       "Mission        503\n",
       "Name: area, dtype: int64"
      ]
     },
     "execution_count": 34,
     "metadata": {},
     "output_type": "execute_result"
    }
   ],
   "source": [
    "dv_data['area'].sort_values().value_counts().head(4)"
   ]
  },
  {
   "cell_type": "code",
   "execution_count": 35,
   "metadata": {},
   "outputs": [
    {
     "data": {
      "text/plain": [
       "Newton         64\n",
       "Southwest      49\n",
       "77th Street    48\n",
       "Mission        45\n",
       "Name: area, dtype: int64"
      ]
     },
     "execution_count": 35,
     "metadata": {},
     "output_type": "execute_result"
    }
   ],
   "source": [
    "dv_data_2020['area'].sort_values().value_counts().head(4)"
   ]
  },
  {
   "cell_type": "markdown",
   "metadata": {},
   "source": [
    "#### Descent Data <a class=\"anchor\" id=\"descent\"></a>"
   ]
  },
  {
   "cell_type": "code",
   "execution_count": 36,
   "metadata": {},
   "outputs": [
    {
     "data": {
      "text/plain": [
       "H    4489\n",
       "B    1814\n",
       "W    1319\n",
       "O     442\n",
       "C       5\n",
       "F       4\n",
       "J       2\n",
       "I       1\n",
       "Name: descent, dtype: int64"
      ]
     },
     "execution_count": 36,
     "metadata": {},
     "output_type": "execute_result"
    }
   ],
   "source": [
    "dv_data['descent'].sort_values().value_counts()"
   ]
  },
  {
   "cell_type": "markdown",
   "metadata": {},
   "source": [
    "#### Age Data  <a class=\"anchor\" id=\"age\"></a>"
   ]
  },
  {
   "cell_type": "code",
   "execution_count": 37,
   "metadata": {},
   "outputs": [
    {
     "data": {
      "text/plain": [
       "28    323\n",
       "25    314\n",
       "29    300\n",
       "26    291\n",
       "27    291\n",
       "     ... \n",
       "81      1\n",
       "2       1\n",
       "74      1\n",
       "75      1\n",
       "4       1\n",
       "Name: age, Length: 74, dtype: int64"
      ]
     },
     "execution_count": 37,
     "metadata": {},
     "output_type": "execute_result"
    }
   ],
   "source": [
    "dv_data['age'].sort_values().value_counts()"
   ]
  }
 ],
 "metadata": {
  "kernelspec": {
   "display_name": "Python 3",
   "language": "python",
   "name": "python3"
  },
  "language_info": {
   "codemirror_mode": {
    "name": "ipython",
    "version": 3
   },
   "file_extension": ".py",
   "mimetype": "text/x-python",
   "name": "python",
   "nbconvert_exporter": "python",
   "pygments_lexer": "ipython3",
   "version": "3.7.4"
  }
 },
 "nbformat": 4,
 "nbformat_minor": 4
}
